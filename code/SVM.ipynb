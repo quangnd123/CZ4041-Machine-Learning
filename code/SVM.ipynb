{
 "cells": [
  {
   "cell_type": "code",
   "execution_count": 2,
   "metadata": {},
   "outputs": [
    {
     "name": "stderr",
     "output_type": "stream",
     "text": [
      "C:\\Users\\APC\\AppData\\Roaming\\Python\\Python38\\site-packages\\pandas\\core\\computation\\expressions.py:21: UserWarning: Pandas requires version '2.7.3' or newer of 'numexpr' (version '2.7.1' currently installed).\n",
      "  from pandas.core.computation.check import NUMEXPR_INSTALLED\n"
     ]
    }
   ],
   "source": [
    "import pandas as pd\n",
    "import numpy as np\n",
    "from sklearn import ensemble\n",
    "from sklearn.linear_model import Ridge\n",
    "from sklearn.model_selection import train_test_split"
   ]
  },
  {
   "cell_type": "code",
   "execution_count": 19,
   "metadata": {},
   "outputs": [],
   "source": [
    "train_2016 = pd.read_csv('./../preprocessed data/df_train_2016.csv')\n",
    "predict_2016 = pd.read_csv('./../preprocessed data/df_predict_2016.csv')\n",
    "\n",
    "train_2017 = pd.read_csv('./../preprocessed data/df_train_2017.csv')\n",
    "predict_2017 = pd.read_csv('./../preprocessed data/df_predict_2017.csv')\n",
    "\n",
    "sample = pd.read_csv(\"./../data/sample_submission.csv\")"
   ]
  },
  {
   "cell_type": "markdown",
   "metadata": {},
   "source": [
    "# 2016 "
   ]
  },
  {
   "cell_type": "code",
   "execution_count": 26,
   "metadata": {},
   "outputs": [],
   "source": [
    "y = train_2016['logerror']\n",
    "train_16 = train_2016.drop(['logerror'],axis=1)\n",
    "\n",
    "predict_16 = predict_2016.drop(['parcelid'],axis=1)"
   ]
  },
  {
   "cell_type": "code",
   "execution_count": 27,
   "metadata": {},
   "outputs": [
    {
     "name": "stdout",
     "output_type": "stream",
     "text": [
      "0.06834365302544339\n"
     ]
    }
   ],
   "source": [
    "X_train, X_test, Y_train, Y_test = train_test_split(train_16, y, random_state=0)\n",
    "rlr = Ridge(alpha=0.1)\n",
    "rlr.fit(X_train, Y_train)\n",
    "\n",
    "y_pred=rlr.predict(X_test)\n",
    "df_y=abs(Y_test-y_pred)\n",
    "MAE=df_y.sum()/len(Y_test)\n",
    "print(MAE)"
   ]
  },
  {
   "cell_type": "code",
   "execution_count": 28,
   "metadata": {},
   "outputs": [],
   "source": [
    "Y = rlr.predict(predict_16)\n",
    "sample['201610'] = Y\n",
    "sample['201611'] = Y\n",
    "sample['201612'] = Y"
   ]
  },
  {
   "cell_type": "markdown",
   "metadata": {},
   "source": [
    "# 2017"
   ]
  },
  {
   "cell_type": "code",
   "execution_count": 29,
   "metadata": {},
   "outputs": [],
   "source": [
    "y = train_2017['logerror']\n",
    "train_17 = train_2017.drop(['logerror'],axis=1)\n",
    "\n",
    "predict_17 = predict_2017.drop(['parcelid'],axis=1)"
   ]
  },
  {
   "cell_type": "code",
   "execution_count": 31,
   "metadata": {},
   "outputs": [
    {
     "name": "stdout",
     "output_type": "stream",
     "text": [
      "0.07089478261325233\n"
     ]
    }
   ],
   "source": [
    "X_train, X_test, Y_train, Y_test = train_test_split(train_17, y, random_state=0)\n",
    "rlr = Ridge(alpha=0.1)\n",
    "rlr.fit(X_train, Y_train)\n",
    "\n",
    "y_pred=rlr.predict(X_test)\n",
    "df_y=abs(Y_test-y_pred)\n",
    "MAE=df_y.sum()/len(Y_test)\n",
    "print(MAE)"
   ]
  },
  {
   "cell_type": "code",
   "execution_count": 32,
   "metadata": {},
   "outputs": [],
   "source": [
    "Y = rlr.predict(predict_17)\n",
    "sample['201610'] = Y\n",
    "sample['201611'] = Y\n",
    "sample['201612'] = Y"
   ]
  },
  {
   "cell_type": "code",
   "execution_count": 33,
   "metadata": {},
   "outputs": [],
   "source": [
    "sample.to_csv('./../submission/svm.csv', index=False, float_format='%.4f')"
   ]
  }
 ],
 "metadata": {
  "kernelspec": {
   "display_name": "Python 3",
   "language": "python",
   "name": "python3"
  },
  "language_info": {
   "codemirror_mode": {
    "name": "ipython",
    "version": 3
   },
   "file_extension": ".py",
   "mimetype": "text/x-python",
   "name": "python",
   "nbconvert_exporter": "python",
   "pygments_lexer": "ipython3",
   "version": "3.8.5"
  }
 },
 "nbformat": 4,
 "nbformat_minor": 4
}
