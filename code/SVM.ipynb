{
  "cells": [
    {
      "cell_type": "code",
      "execution_count": 6,
      "metadata": {},
      "outputs": [],
      "source": [
        "import pandas as pd\n",
        "import numpy as np\n",
        "from sklearn.linear_model import RidgeCV\n",
        "from sklearn.linear_model import Ridge\n",
        "from sklearn.model_selection import train_test_split"
      ]
    },
    {
      "cell_type": "code",
      "execution_count": 2,
      "metadata": {},
      "outputs": [],
      "source": [
        "train_2016 = pd.read_csv('./../preprocessed data/df_train_2016.csv')\n",
        "predict_2016 = pd.read_csv('./../preprocessed data/df_predict_2016.csv')\n",
        "\n",
        "train_2017 = pd.read_csv('./../preprocessed data/df_train_2017.csv')\n",
        "predict_2017 = pd.read_csv('./../preprocessed data/df_predict_2017.csv')\n",
        "\n",
        "sample = pd.read_csv(\"./../data/sample_submission.csv\")"
      ]
    },
    {
      "cell_type": "markdown",
      "metadata": {},
      "source": [
        "# 2016 "
      ]
    },
    {
      "cell_type": "code",
      "execution_count": 20,
      "metadata": {},
      "outputs": [],
      "source": [
        "#train data\n",
        "y = train_2016['logerror']\n",
        "print(len(y))\n",
        "train_16 = train_2016.drop(['logerror'],axis=1)\n",
        "\n",
        "# data needs to do regression\n",
        "predict_16 = predict_2016.drop(['parcelid'],axis=1)"
      ]
    },
    {
      "cell_type": "code",
      "execution_count": 21,
      "metadata": {},
      "outputs": [
        {
          "name": "stdout",
          "output_type": "stream",
          "text": [
            "Testing with alphas=[350.  350.1 350.2 350.3 350.4 350.5 350.6 350.7 350.8 350.9 351.  351.1\n",
            " 351.2 351.3 351.4 351.5 351.6 351.7 351.8 351.9 352.  352.1 352.2 352.3\n",
            " 352.4 352.5 352.6 352.7 352.8 352.9 353.  353.1 353.2 353.3 353.4 353.5\n",
            " 353.6 353.7 353.8 353.9 354.  354.1 354.2 354.3 354.4 354.5 354.6 354.7\n",
            " 354.8 354.9 355.  355.1 355.2 355.3 355.4 355.5 355.6 355.7 355.8 355.9\n",
            " 356.  356.1 356.2 356.3 356.4 356.5 356.6 356.7 356.8 356.9 357.  357.1\n",
            " 357.2 357.3 357.4 357.5 357.6 357.7 357.8 357.9 358.  358.1 358.2 358.3\n",
            " 358.4 358.5 358.6 358.7 358.8 358.9 359.  359.1 359.2 359.3 359.4 359.5\n",
            " 359.6 359.7 359.8 359.9]\n",
            "Best Ridge Alpha: 357.5000000000017\n"
          ]
        }
      ],
      "source": [
        "# Set of alpha values to test\n",
        "# alphas = np.logspace(0,3)\n",
        "alphas = np.arange(350,360,0.1)\n",
        "print(f\"Testing with alphas={alphas}\")\n",
        "\n",
        "# Tune Ridge Regression\n",
        "ridgecv = RidgeCV(alphas=alphas)\n",
        "ridgecv.fit(train_16, y)\n",
        "print(f\"Best Ridge Alpha: {ridgecv.alpha_}\")"
      ]
    },
    {
      "cell_type": "code",
      "execution_count": 22,
      "metadata": {},
      "outputs": [
        {
          "name": "stdout",
          "output_type": "stream",
          "text": [
            "0.06833714277050931\n"
          ]
        }
      ],
      "source": [
        "X_train, X_test, Y_train, Y_test = train_test_split(train_16, y, random_state=0)\n",
        "rlr = Ridge(alpha=ridgecv.alpha_)\n",
        "rlr.fit(X_train, Y_train)\n",
        "\n",
        "y_pred=rlr.predict(X_test)\n",
        "df_y=abs(Y_test-y_pred)\n",
        "MAE=df_y.sum()/len(Y_test)\n",
        "print(MAE)"
      ]
    },
    {
      "cell_type": "code",
      "execution_count": 23,
      "metadata": {},
      "outputs": [],
      "source": [
        "Y = rlr.predict(predict_16)\n",
        "sample['201610'] = Y\n",
        "sample['201611'] = Y\n",
        "sample['201612'] = Y"
      ]
    },
    {
      "cell_type": "markdown",
      "metadata": {},
      "source": [
        "# 2017"
      ]
    },
    {
      "cell_type": "code",
      "execution_count": 24,
      "metadata": {},
      "outputs": [],
      "source": [
        "y = train_2017['logerror']\n",
        "train_17 = train_2017.drop(['logerror'],axis=1)\n",
        "\n",
        "predict_17 = predict_2017.drop(['parcelid'],axis=1)"
      ]
    },
    {
      "cell_type": "code",
      "execution_count": 25,
      "metadata": {},
      "outputs": [
        {
          "name": "stdout",
          "output_type": "stream",
          "text": [
            "Testing with alphas=[1750.  1750.1 1750.2 1750.3 1750.4 1750.5 1750.6 1750.7 1750.8 1750.9\n",
            " 1751.  1751.1 1751.2 1751.3 1751.4 1751.5 1751.6 1751.7 1751.8 1751.9\n",
            " 1752.  1752.1 1752.2 1752.3 1752.4 1752.5 1752.6 1752.7 1752.8 1752.9\n",
            " 1753.  1753.1 1753.2 1753.3 1753.4 1753.5 1753.6 1753.7 1753.8 1753.9\n",
            " 1754.  1754.1 1754.2 1754.3 1754.4 1754.5 1754.6 1754.7 1754.8 1754.9\n",
            " 1755.  1755.1 1755.2 1755.3 1755.4 1755.5 1755.6 1755.7 1755.8 1755.9\n",
            " 1756.  1756.1 1756.2 1756.3 1756.4 1756.5 1756.6 1756.7 1756.8 1756.9\n",
            " 1757.  1757.1 1757.2 1757.3 1757.4 1757.5 1757.6 1757.7 1757.8 1757.9\n",
            " 1758.  1758.1 1758.2 1758.3 1758.4 1758.5 1758.6 1758.7 1758.8 1758.9\n",
            " 1759.  1759.1 1759.2 1759.3 1759.4 1759.5 1759.6 1759.7 1759.8 1759.9\n",
            " 1760.  1760.1 1760.2 1760.3 1760.4 1760.5 1760.6 1760.7 1760.8 1760.9\n",
            " 1761.  1761.1 1761.2 1761.3 1761.4 1761.5 1761.6 1761.7 1761.8 1761.9\n",
            " 1762.  1762.1 1762.2 1762.3 1762.4 1762.5 1762.6 1762.7 1762.8 1762.9\n",
            " 1763.  1763.1 1763.2 1763.3 1763.4 1763.5 1763.6 1763.7 1763.8 1763.9\n",
            " 1764.  1764.1 1764.2 1764.3 1764.4 1764.5 1764.6 1764.7 1764.8 1764.9\n",
            " 1765.  1765.1 1765.2 1765.3 1765.4 1765.5 1765.6 1765.7 1765.8 1765.9\n",
            " 1766.  1766.1 1766.2 1766.3 1766.4 1766.5 1766.6 1766.7 1766.8 1766.9\n",
            " 1767.  1767.1 1767.2 1767.3 1767.4 1767.5 1767.6 1767.7 1767.8 1767.9\n",
            " 1768.  1768.1 1768.2 1768.3 1768.4 1768.5 1768.6 1768.7 1768.8 1768.9\n",
            " 1769.  1769.1 1769.2 1769.3 1769.4 1769.5 1769.6 1769.7 1769.8 1769.9]\n",
            "Best Ridge Alpha: 1758.899999999992\n"
          ]
        }
      ],
      "source": [
        "# Set of alpha values to test\n",
        "#alphas = np.logspace(0,4)\n",
        "alphas = np.arange(1750,1770,0.1)\n",
        "print(f\"Testing with alphas={alphas}\")\n",
        "\n",
        "# Tune Ridge Regression\n",
        "ridgecv = RidgeCV(alphas=alphas)\n",
        "ridgecv.fit(train_17, y)\n",
        "print(f\"Best Ridge Alpha: {ridgecv.alpha_}\")"
      ]
    },
    {
      "cell_type": "code",
      "execution_count": 26,
      "metadata": {},
      "outputs": [
        {
          "name": "stdout",
          "output_type": "stream",
          "text": [
            "0.07082685210178036\n"
          ]
        }
      ],
      "source": [
        "X_train, X_test, Y_train, Y_test = train_test_split(train_17, y, random_state=0)\n",
        "rlr = Ridge(alpha=ridgecv.alpha_)\n",
        "rlr.fit(X_train, Y_train)\n",
        "\n",
        "y_pred=rlr.predict(X_test)\n",
        "df_y=abs(Y_test-y_pred)\n",
        "MAE=df_y.sum()/len(Y_test)\n",
        "print(MAE)"
      ]
    },
    {
      "cell_type": "code",
      "execution_count": 27,
      "metadata": {},
      "outputs": [],
      "source": [
        "Y = rlr.predict(predict_17)\n",
        "sample['201610'] = Y\n",
        "sample['201611'] = Y\n",
        "sample['201612'] = Y"
      ]
    },
    {
      "cell_type": "code",
      "execution_count": 28,
      "metadata": {},
      "outputs": [],
      "source": [
        "sample.to_csv('./../submission/svm.csv', index=False, float_format='%.4f')"
      ]
    },
    {
      "cell_type": "code",
      "execution_count": null,
      "metadata": {},
      "outputs": [],
      "source": []
    }
  ],
  "metadata": {
    "kernelspec": {
      "display_name": "Python 3 (ipykernel)",
      "language": "python",
      "name": "python3"
    },
    "language_info": {
      "codemirror_mode": {
        "name": "ipython",
        "version": 3
      },
      "file_extension": ".py",
      "mimetype": "text/x-python",
      "name": "python",
      "nbconvert_exporter": "python",
      "pygments_lexer": "ipython3",
      "version": "3.9.12"
    }
  },
  "nbformat": 4,
  "nbformat_minor": 4
}
