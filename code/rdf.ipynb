{
 "cells": [
  {
   "cell_type": "code",
   "execution_count": 5,
   "metadata": {},
   "outputs": [
    {
     "name": "stderr",
     "output_type": "stream",
     "text": [
      "C:\\Users\\APC\\AppData\\Roaming\\Python\\Python38\\site-packages\\pandas\\core\\computation\\expressions.py:21: UserWarning: Pandas requires version '2.7.3' or newer of 'numexpr' (version '2.7.1' currently installed).\n",
      "  from pandas.core.computation.check import NUMEXPR_INSTALLED\n"
     ]
    }
   ],
   "source": [
    "import pandas as pd\n",
    "import numpy as np\n",
    "from sklearn.model_selection import train_test_split\n",
    "from sklearn.ensemble import RandomForestRegressor\n",
    "from sklearn.model_selection import RandomizedSearchCV\n",
    "from sklearn.model_selection import GridSearchCV"
   ]
  },
  {
   "cell_type": "code",
   "execution_count": 6,
   "metadata": {},
   "outputs": [],
   "source": [
    "train_2016 = pd.read_csv('./../preprocessed data/df_train_2016.csv')\n",
    "predict_2016 = pd.read_csv('./../preprocessed data/df_predict_2016.csv')\n",
    "\n",
    "train_2017 = pd.read_csv('./../preprocessed data/df_train_2017.csv')\n",
    "predict_2017 = pd.read_csv('./../preprocessed data/df_predict_2017.csv')\n",
    "\n",
    "sample = pd.read_csv(\"./../data/sample_submission.csv\")"
   ]
  },
  {
   "cell_type": "code",
   "execution_count": 14,
   "metadata": {},
   "outputs": [],
   "source": [
    "def outliner_drop(df):\n",
    "    Q1 = df['logerror'].quantile(0.25)\n",
    "    Q3 = df['logerror'].quantile(0.75)\n",
    "    IQR = Q3-Q1\n",
    "    lower_lim = Q1 - 1.5*IQR\n",
    "    upper_lim = Q3 + 1.5*IQR\n",
    "    df=df[df.logerror >= lower_lim ]\n",
    "    df=df[df.logerror <= upper_lim ]\n",
    "    return df"
   ]
  },
  {
   "cell_type": "code",
   "execution_count": 7,
   "metadata": {},
   "outputs": [],
   "source": [
    "# Fraction of original dataset given to any individual tree\n",
    "max_samples = [0.1, 0.2]\n",
    "# Number of features to consider at every split\n",
    "max_features = ['auto', 0.4, 0.6, 0.8, 0.9]\n",
    "# Maximum number of levels in tree\n",
    "max_depth = [int(x) for x in np.linspace(50, 100, num = 4)]\n",
    "# max_depth.append(None)\n",
    "# Minimum number of samples required at each leaf node\n",
    "min_samples_leaf = [16, 32, 48]\n",
    "\n",
    "# Create the tuning grid\n",
    "param_grid = {\n",
    "    'max_samples': max_samples,\n",
    "    'max_features': max_features,\n",
    "    'max_depth': max_depth,\n",
    "    'min_samples_leaf': min_samples_leaf,\n",
    "}"
   ]
  },
  {
   "cell_type": "code",
   "execution_count": 15,
   "metadata": {},
   "outputs": [],
   "source": [
    "train_16 = train_2016.copy()\n",
    "train_16 = outliner_drop(train_16)\n",
    "y_16 = train_16['logerror']\n",
    "train_16 = train_16.drop(['logerror'],axis=1)\n",
    "\n",
    "predict_16 = predict_2016.drop(['parcelid'],axis=1)"
   ]
  },
  {
   "cell_type": "code",
   "execution_count": 17,
   "metadata": {},
   "outputs": [
    {
     "name": "stdout",
     "output_type": "stream",
     "text": [
      "Fitting 3 folds for each of 120 candidates, totalling 360 fits\n"
     ]
    },
    {
     "name": "stderr",
     "output_type": "stream",
     "text": [
      "[Parallel(n_jobs=-1)]: Using backend LokyBackend with 8 concurrent workers.\n",
      "[Parallel(n_jobs=-1)]: Done  25 tasks      | elapsed:   36.9s\n",
      "[Parallel(n_jobs=-1)]: Done 146 tasks      | elapsed:  3.2min\n",
      "[Parallel(n_jobs=-1)]: Done 360 out of 360 | elapsed:  7.9min finished\n"
     ]
    },
    {
     "data": {
      "text/plain": [
       "RandomForestRegressor(max_depth=50, max_features=0.9, max_samples=0.2,\n",
       "                      min_samples_leaf=16)"
      ]
     },
     "execution_count": 17,
     "metadata": {},
     "output_type": "execute_result"
    }
   ],
   "source": [
    "rf = RandomForestRegressor()\n",
    "\n",
    "# Grid search of parameters, using 3 fold cross validation\n",
    "rf_grid = GridSearchCV(estimator=rf, param_grid=param_grid, cv=3, n_jobs=-1, verbose=2)\n",
    "\n",
    "# Fit the random search model\n",
    "rf_grid.fit(train_16, y_16)\n",
    "\n",
    "best_rf = rf_grid.best_estimator_\n",
    "best_rf"
   ]
  },
  {
   "cell_type": "code",
   "execution_count": 18,
   "metadata": {},
   "outputs": [],
   "source": [
    "best_params = {\n",
    "    'n_estimators': 400,\n",
    "    'max_samples': 0.2,\n",
    "    'max_depth': 50,\n",
    "    'max_features': 0.9,\n",
    "    'min_samples_leaf': 16,    \n",
    "    'random_state': 42, \n",
    "}\n",
    "\n",
    "ran_forest = RandomForestRegressor(**best_params)\n",
    "ran_forest.fit(train_16, y_16)\n",
    "predict_y = ran_forest.predict(predict_16)"
   ]
  },
  {
   "cell_type": "code",
   "execution_count": 19,
   "metadata": {},
   "outputs": [],
   "source": [
    "sample['201610'] = predict_y \n",
    "sample['201611'] = predict_y \n",
    "sample['201612'] = predict_y "
   ]
  },
  {
   "cell_type": "code",
   "execution_count": null,
   "metadata": {},
   "outputs": [],
   "source": []
  },
  {
   "cell_type": "code",
   "execution_count": null,
   "metadata": {},
   "outputs": [],
   "source": []
  },
  {
   "cell_type": "code",
   "execution_count": null,
   "metadata": {},
   "outputs": [],
   "source": []
  },
  {
   "cell_type": "code",
   "execution_count": 20,
   "metadata": {},
   "outputs": [],
   "source": [
    "train_17 = train_2017.copy()\n",
    "train_17 = outliner_drop(train_17)\n",
    "y_17 = train_17['logerror']\n",
    "train_17 = train_17.drop(['logerror'],axis=1)\n",
    "\n",
    "predict_17 = predict_2017.drop(['parcelid'],axis=1)"
   ]
  },
  {
   "cell_type": "code",
   "execution_count": 21,
   "metadata": {},
   "outputs": [
    {
     "name": "stdout",
     "output_type": "stream",
     "text": [
      "Fitting 3 folds for each of 120 candidates, totalling 360 fits\n"
     ]
    },
    {
     "name": "stderr",
     "output_type": "stream",
     "text": [
      "[Parallel(n_jobs=-1)]: Using backend LokyBackend with 8 concurrent workers.\n",
      "[Parallel(n_jobs=-1)]: Done  25 tasks      | elapsed:   29.1s\n",
      "[Parallel(n_jobs=-1)]: Done 146 tasks      | elapsed:  2.6min\n",
      "[Parallel(n_jobs=-1)]: Done 360 out of 360 | elapsed:  6.6min finished\n"
     ]
    },
    {
     "data": {
      "text/plain": [
       "RandomForestRegressor(max_depth=83, max_features=0.4, max_samples=0.2,\n",
       "                      min_samples_leaf=16)"
      ]
     },
     "execution_count": 21,
     "metadata": {},
     "output_type": "execute_result"
    }
   ],
   "source": [
    "rf = RandomForestRegressor()\n",
    "\n",
    "# Grid search of parameters, using 3 fold cross validation\n",
    "rf_grid = GridSearchCV(estimator=rf, param_grid=param_grid, cv=3, n_jobs=-1, verbose=2)\n",
    "\n",
    "# Fit the random search model\n",
    "rf_grid.fit(train_17, y_17)\n",
    "\n",
    "best_rf = rf_grid.best_estimator_\n",
    "best_rf"
   ]
  },
  {
   "cell_type": "code",
   "execution_count": 22,
   "metadata": {},
   "outputs": [],
   "source": [
    "best_params = {\n",
    "    'n_estimators': 400,\n",
    "    'max_samples': 0.2,\n",
    "    'max_depth': 83,\n",
    "    'max_features': 0.4,\n",
    "    'min_samples_leaf': 16,    \n",
    "    'random_state': 42, \n",
    "}\n",
    "\n",
    "ran_forest = RandomForestRegressor(**best_params)\n",
    "ran_forest.fit(train_17, y_17)\n",
    "predict_y = ran_forest.predict(predict_17)"
   ]
  },
  {
   "cell_type": "code",
   "execution_count": 23,
   "metadata": {},
   "outputs": [],
   "source": [
    "sample['201710'] = predict_y \n",
    "sample['201711'] = predict_y \n",
    "sample['201712'] = predict_y "
   ]
  },
  {
   "cell_type": "code",
   "execution_count": 25,
   "metadata": {},
   "outputs": [],
   "source": [
    "sample.to_csv('./../submission/rdf.csv', index=False, float_format='%.6f')"
   ]
  },
  {
   "cell_type": "code",
   "execution_count": 24,
   "metadata": {},
   "outputs": [
    {
     "data": {
      "text/html": [
       "<div>\n",
       "<style scoped>\n",
       "    .dataframe tbody tr th:only-of-type {\n",
       "        vertical-align: middle;\n",
       "    }\n",
       "\n",
       "    .dataframe tbody tr th {\n",
       "        vertical-align: top;\n",
       "    }\n",
       "\n",
       "    .dataframe thead th {\n",
       "        text-align: right;\n",
       "    }\n",
       "</style>\n",
       "<table border=\"1\" class=\"dataframe\">\n",
       "  <thead>\n",
       "    <tr style=\"text-align: right;\">\n",
       "      <th></th>\n",
       "      <th>ParcelId</th>\n",
       "      <th>201610</th>\n",
       "      <th>201611</th>\n",
       "      <th>201612</th>\n",
       "      <th>201710</th>\n",
       "      <th>201711</th>\n",
       "      <th>201712</th>\n",
       "    </tr>\n",
       "  </thead>\n",
       "  <tbody>\n",
       "    <tr>\n",
       "      <th>0</th>\n",
       "      <td>10754147</td>\n",
       "      <td>0.008671</td>\n",
       "      <td>0.008671</td>\n",
       "      <td>0.008671</td>\n",
       "      <td>0.013351</td>\n",
       "      <td>0.013351</td>\n",
       "      <td>0.013351</td>\n",
       "    </tr>\n",
       "    <tr>\n",
       "      <th>1</th>\n",
       "      <td>10759547</td>\n",
       "      <td>0.009578</td>\n",
       "      <td>0.009578</td>\n",
       "      <td>0.009578</td>\n",
       "      <td>0.014124</td>\n",
       "      <td>0.014124</td>\n",
       "      <td>0.014124</td>\n",
       "    </tr>\n",
       "    <tr>\n",
       "      <th>2</th>\n",
       "      <td>10843547</td>\n",
       "      <td>0.028944</td>\n",
       "      <td>0.028944</td>\n",
       "      <td>0.028944</td>\n",
       "      <td>0.022783</td>\n",
       "      <td>0.022783</td>\n",
       "      <td>0.022783</td>\n",
       "    </tr>\n",
       "    <tr>\n",
       "      <th>3</th>\n",
       "      <td>10859147</td>\n",
       "      <td>0.020052</td>\n",
       "      <td>0.020052</td>\n",
       "      <td>0.020052</td>\n",
       "      <td>0.018031</td>\n",
       "      <td>0.018031</td>\n",
       "      <td>0.018031</td>\n",
       "    </tr>\n",
       "    <tr>\n",
       "      <th>4</th>\n",
       "      <td>10879947</td>\n",
       "      <td>0.005760</td>\n",
       "      <td>0.005760</td>\n",
       "      <td>0.005760</td>\n",
       "      <td>0.005913</td>\n",
       "      <td>0.005913</td>\n",
       "      <td>0.005913</td>\n",
       "    </tr>\n",
       "    <tr>\n",
       "      <th>...</th>\n",
       "      <td>...</td>\n",
       "      <td>...</td>\n",
       "      <td>...</td>\n",
       "      <td>...</td>\n",
       "      <td>...</td>\n",
       "      <td>...</td>\n",
       "      <td>...</td>\n",
       "    </tr>\n",
       "    <tr>\n",
       "      <th>2985212</th>\n",
       "      <td>168176230</td>\n",
       "      <td>-0.004642</td>\n",
       "      <td>-0.004642</td>\n",
       "      <td>-0.004642</td>\n",
       "      <td>0.009699</td>\n",
       "      <td>0.009699</td>\n",
       "      <td>0.009699</td>\n",
       "    </tr>\n",
       "    <tr>\n",
       "      <th>2985213</th>\n",
       "      <td>14273630</td>\n",
       "      <td>-0.004642</td>\n",
       "      <td>-0.004642</td>\n",
       "      <td>-0.004642</td>\n",
       "      <td>0.010581</td>\n",
       "      <td>0.010581</td>\n",
       "      <td>0.010581</td>\n",
       "    </tr>\n",
       "    <tr>\n",
       "      <th>2985214</th>\n",
       "      <td>168040630</td>\n",
       "      <td>-0.004642</td>\n",
       "      <td>-0.004642</td>\n",
       "      <td>-0.004642</td>\n",
       "      <td>0.001412</td>\n",
       "      <td>0.001412</td>\n",
       "      <td>0.001412</td>\n",
       "    </tr>\n",
       "    <tr>\n",
       "      <th>2985215</th>\n",
       "      <td>168040830</td>\n",
       "      <td>-0.004642</td>\n",
       "      <td>-0.004642</td>\n",
       "      <td>-0.004642</td>\n",
       "      <td>0.009686</td>\n",
       "      <td>0.009686</td>\n",
       "      <td>0.009686</td>\n",
       "    </tr>\n",
       "    <tr>\n",
       "      <th>2985216</th>\n",
       "      <td>168040430</td>\n",
       "      <td>-0.004642</td>\n",
       "      <td>-0.004642</td>\n",
       "      <td>-0.004642</td>\n",
       "      <td>0.006517</td>\n",
       "      <td>0.006517</td>\n",
       "      <td>0.006517</td>\n",
       "    </tr>\n",
       "  </tbody>\n",
       "</table>\n",
       "<p>2985217 rows × 7 columns</p>\n",
       "</div>"
      ],
      "text/plain": [
       "          ParcelId    201610    201611    201612    201710    201711    201712\n",
       "0         10754147  0.008671  0.008671  0.008671  0.013351  0.013351  0.013351\n",
       "1         10759547  0.009578  0.009578  0.009578  0.014124  0.014124  0.014124\n",
       "2         10843547  0.028944  0.028944  0.028944  0.022783  0.022783  0.022783\n",
       "3         10859147  0.020052  0.020052  0.020052  0.018031  0.018031  0.018031\n",
       "4         10879947  0.005760  0.005760  0.005760  0.005913  0.005913  0.005913\n",
       "...            ...       ...       ...       ...       ...       ...       ...\n",
       "2985212  168176230 -0.004642 -0.004642 -0.004642  0.009699  0.009699  0.009699\n",
       "2985213   14273630 -0.004642 -0.004642 -0.004642  0.010581  0.010581  0.010581\n",
       "2985214  168040630 -0.004642 -0.004642 -0.004642  0.001412  0.001412  0.001412\n",
       "2985215  168040830 -0.004642 -0.004642 -0.004642  0.009686  0.009686  0.009686\n",
       "2985216  168040430 -0.004642 -0.004642 -0.004642  0.006517  0.006517  0.006517\n",
       "\n",
       "[2985217 rows x 7 columns]"
      ]
     },
     "execution_count": 24,
     "metadata": {},
     "output_type": "execute_result"
    }
   ],
   "source": [
    "sample"
   ]
  },
  {
   "cell_type": "code",
   "execution_count": null,
   "metadata": {},
   "outputs": [],
   "source": []
  }
 ],
 "metadata": {
  "kernelspec": {
   "display_name": "Python 3",
   "language": "python",
   "name": "python3"
  },
  "language_info": {
   "codemirror_mode": {
    "name": "ipython",
    "version": 3
   },
   "file_extension": ".py",
   "mimetype": "text/x-python",
   "name": "python",
   "nbconvert_exporter": "python",
   "pygments_lexer": "ipython3",
   "version": "3.8.5"
  }
 },
 "nbformat": 4,
 "nbformat_minor": 4
}
