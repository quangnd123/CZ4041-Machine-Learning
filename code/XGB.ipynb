{
 "cells": [
  {
   "cell_type": "markdown",
   "id": "1e8ac4ad",
   "metadata": {},
   "source": [
    "# All Imports"
   ]
  },
  {
   "cell_type": "code",
   "execution_count": 315,
   "id": "b4a73e13",
   "metadata": {},
   "outputs": [],
   "source": [
    "import numpy as np\n",
    "import pandas as pd\n",
    "import xgboost as xgb\n",
    "import gc\n",
    "from sklearn import ensemble\n",
    "from sklearn.linear_model import Ridge\n",
    "from sklearn.model_selection import train_test_split"
   ]
  },
  {
   "cell_type": "markdown",
   "id": "0f9eae91",
   "metadata": {},
   "source": [
    "# Reading Data"
   ]
  },
  {
   "cell_type": "markdown",
   "id": "07158946",
   "metadata": {},
   "source": []
  },
  {
   "cell_type": "code",
   "execution_count": 316,
   "id": "aea3e5b0",
   "metadata": {},
   "outputs": [],
   "source": [
    "train_2016 = pd.read_csv('./../preprocessed data/df_train_2016.csv')\n",
    "predict_2016 = pd.read_csv('./../preprocessed data/df_predict_2016.csv')\n",
    "\n",
    "train_2017 = pd.read_csv('./../preprocessed data/df_train_2017.csv')\n",
    "predict_2017 = pd.read_csv('./../preprocessed data/df_predict_2017.csv')\n",
    "\n",
    "sample = pd.read_csv(\"./../data/sample_submission.csv\")"
   ]
  },
  {
   "cell_type": "markdown",
   "id": "9c1e0cac",
   "metadata": {},
   "source": [
    "# Processing Data (2016)"
   ]
  },
  {
   "cell_type": "code",
   "execution_count": 317,
   "id": "2cce56aa",
   "metadata": {},
   "outputs": [],
   "source": [
    "x_train_2016 = train_2016.drop(['logerror'], axis=1)\n",
    "num_columns = x_train_2016.columns\n",
    "y_train_2016 = train_2016['logerror'].values.astype(np.float32)"
   ]
  },
  {
   "cell_type": "code",
   "execution_count": 318,
   "id": "a02737fa",
   "metadata": {},
   "outputs": [],
   "source": [
    "#Dropping Outliers\n",
    "train_2016=train_2016[train_2016.logerror > -0.4 ]\n",
    "train_2016=train_2016[train_2016.logerror < 0.418 ]\n",
    "x_train_2016 = train_2016.drop(['logerror'], axis=1)\n",
    "y_train_2016 = train_2016['logerror'].values.astype(np.float32)"
   ]
  },
  {
   "cell_type": "code",
   "execution_count": 319,
   "id": "71b9bcc9",
   "metadata": {},
   "outputs": [],
   "source": [
    "x_train, x_test, y_train, y_test = train_test_split(x_train_2016, y_train_2016, random_state=0)"
   ]
  },
  {
   "cell_type": "code",
   "execution_count": 320,
   "id": "19d89269",
   "metadata": {},
   "outputs": [],
   "source": [
    "mean = np.mean(y_train)\n",
    "xgb_params = {\n",
    "    'eta': 0.06,\n",
    "    'max_depth': 5,\n",
    "    'subsample': 0.75,\n",
    "    'objective': 'reg:linear',\n",
    "    'eval_metric': 'mae',\n",
    "    'base_score': mean,\n",
    "    'silent': 1\n",
    "}"
   ]
  },
  {
   "cell_type": "markdown",
   "id": "336039d2",
   "metadata": {},
   "source": [
    "# Creating DMatrix (2016)"
   ]
  },
  {
   "cell_type": "code",
   "execution_count": 321,
   "id": "71d82cb3",
   "metadata": {},
   "outputs": [],
   "source": [
    "train_matrix_2016 = xgb.DMatrix(x_train, y_train)\n",
    "test_matrix_2016 = xgb.DMatrix(x_test, y_test)"
   ]
  },
  {
   "cell_type": "code",
   "execution_count": 322,
   "id": "c4026d05",
   "metadata": {},
   "outputs": [
    {
     "name": "stdout",
     "output_type": "stream",
     "text": [
      "[19:31:29] WARNING: /Users/runner/work/xgboost/xgboost/python-package/build/temp.macosx-10.9-x86_64-cpython-38/xgboost/src/objective/regression_obj.cu:213: reg:linear is now deprecated in favor of reg:squarederror.\n",
      "[19:31:29] WARNING: /Users/runner/work/xgboost/xgboost/python-package/build/temp.macosx-10.9-x86_64-cpython-38/xgboost/src/learner.cc:767: \n",
      "Parameters: { \"silent\" } are not used.\n",
      "\n",
      "[0]\ttrain-mae:0.05318\ttest-mae:0.05350\n"
     ]
    },
    {
     "name": "stderr",
     "output_type": "stream",
     "text": [
      "/Users/arthi/opt/anaconda3/lib/python3.9/site-packages/xgboost/core.py:617: FutureWarning: Pass `evals` as keyword args.\n",
      "  warnings.warn(msg, FutureWarning)\n"
     ]
    },
    {
     "name": "stdout",
     "output_type": "stream",
     "text": [
      "[10]\ttrain-mae:0.05287\ttest-mae:0.05328\n",
      "[20]\ttrain-mae:0.05266\ttest-mae:0.05317\n",
      "[30]\ttrain-mae:0.05253\ttest-mae:0.05312\n",
      "[40]\ttrain-mae:0.05242\ttest-mae:0.05310\n",
      "[50]\ttrain-mae:0.05235\ttest-mae:0.05309\n",
      "[60]\ttrain-mae:0.05226\ttest-mae:0.05308\n",
      "[70]\ttrain-mae:0.05217\ttest-mae:0.05307\n",
      "[80]\ttrain-mae:0.05210\ttest-mae:0.05305\n",
      "[90]\ttrain-mae:0.05201\ttest-mae:0.05302\n",
      "[100]\ttrain-mae:0.05196\ttest-mae:0.05302\n",
      "[110]\ttrain-mae:0.05189\ttest-mae:0.05302\n",
      "[120]\ttrain-mae:0.05182\ttest-mae:0.05303\n",
      "[130]\ttrain-mae:0.05174\ttest-mae:0.05303\n",
      "[140]\ttrain-mae:0.05166\ttest-mae:0.05303\n",
      "[150]\ttrain-mae:0.05159\ttest-mae:0.05304\n",
      "[160]\ttrain-mae:0.05153\ttest-mae:0.05304\n",
      "[170]\ttrain-mae:0.05146\ttest-mae:0.05302\n",
      "[180]\ttrain-mae:0.05139\ttest-mae:0.05303\n",
      "[190]\ttrain-mae:0.05133\ttest-mae:0.05302\n",
      "[200]\ttrain-mae:0.05127\ttest-mae:0.05303\n",
      "[202]\ttrain-mae:0.05125\ttest-mae:0.05303\n"
     ]
    }
   ],
   "source": [
    "model = xgb.train(xgb_params, train_matrix_2016, 100000, [(train_matrix_2016, 'train'), (test_matrix_2016, 'test')], early_stopping_rounds=100, verbose_eval=10)"
   ]
  },
  {
   "cell_type": "code",
   "execution_count": 323,
   "id": "387ff719",
   "metadata": {},
   "outputs": [],
   "source": [
    "sample['parcelid'] = sample['ParcelId']\n",
    "\n",
    "df_test_2016 = sample.merge(predict_2016, on='parcelid', how='left')\n",
    "\n",
    "x_2016 = df_test_2016[num_columns]\n",
    "    \n",
    "matrix_2016 = xgb.DMatrix(x_2016)"
   ]
  },
  {
   "cell_type": "code",
   "execution_count": 324,
   "id": "123424f3",
   "metadata": {},
   "outputs": [],
   "source": [
    "prediction_data = model.predict(matrix_2016)\n",
    "y_values = []\n",
    "\n",
    "for num,predict in enumerate(prediction_data):\n",
    "    y_values.append(str(round(predict,4)))\n",
    "    \n",
    "y_values=np.array(y_values)"
   ]
  },
  {
   "cell_type": "code",
   "execution_count": 325,
   "id": "ab84fec9",
   "metadata": {},
   "outputs": [],
   "source": [
    "sample.pop('parcelid')\n",
    "sample['201610'] = y_values\n",
    "sample['201611'] = y_values\n",
    "sample['201612'] = y_values"
   ]
  },
  {
   "cell_type": "markdown",
   "id": "c0047063",
   "metadata": {},
   "source": [
    "# Processing Data (2017)"
   ]
  },
  {
   "cell_type": "code",
   "execution_count": 326,
   "id": "7ab688f3",
   "metadata": {},
   "outputs": [],
   "source": [
    "x_train_2017 = train_2017.drop(['logerror'], axis=1)\n",
    "num_columns = x_train_2017.columns\n",
    "y_train_2017 = train_2017['logerror'].values.astype(np.float32)\n",
    "#print(len(y_train_2016))\n",
    "#print(x_train_2016.shape, y_train_2016.shape)"
   ]
  },
  {
   "cell_type": "code",
   "execution_count": 327,
   "id": "b45f1c16",
   "metadata": {},
   "outputs": [],
   "source": [
    "#Dropping Outliers\n",
    "train_2017=train_2017[train_2017.logerror > -0.4 ]\n",
    "train_2017=train_2017[train_2017.logerror < 0.418 ]\n",
    "x_train_2017 = train_2017.drop(['logerror'], axis=1)\n",
    "y_train_2017 = train_2017['logerror'].values.astype(np.float32)"
   ]
  },
  {
   "cell_type": "code",
   "execution_count": 328,
   "id": "8e3cf724",
   "metadata": {},
   "outputs": [],
   "source": [
    "x_train, x_test, y_train, y_test = train_test_split(x_train_2017, y_train_2017, random_state=0)"
   ]
  },
  {
   "cell_type": "code",
   "execution_count": 329,
   "id": "a6532e5e",
   "metadata": {},
   "outputs": [],
   "source": [
    "mean = np.mean(y_train)\n",
    "xgb_params = {\n",
    "    'eta': 0.06,\n",
    "    'max_depth': 5,\n",
    "    'subsample': 0.75,\n",
    "    'objective': 'reg:linear',\n",
    "    'eval_metric': 'mae',\n",
    "    'base_score': mean,\n",
    "    'silent': 1\n",
    "}"
   ]
  },
  {
   "cell_type": "markdown",
   "id": "7c4703fd",
   "metadata": {},
   "source": [
    "# Creating DMatrix (2017)"
   ]
  },
  {
   "cell_type": "code",
   "execution_count": 330,
   "id": "51eb7cec",
   "metadata": {},
   "outputs": [],
   "source": [
    "train_matrix_2017 = xgb.DMatrix(x_train, y_train)\n",
    "test_matrix_2017 = xgb.DMatrix(x_test, y_test)"
   ]
  },
  {
   "cell_type": "code",
   "execution_count": 331,
   "id": "65df669b",
   "metadata": {},
   "outputs": [
    {
     "name": "stdout",
     "output_type": "stream",
     "text": [
      "[19:32:03] WARNING: /Users/runner/work/xgboost/xgboost/python-package/build/temp.macosx-10.9-x86_64-cpython-38/xgboost/src/objective/regression_obj.cu:213: reg:linear is now deprecated in favor of reg:squarederror.\n",
      "[19:32:03] WARNING: /Users/runner/work/xgboost/xgboost/python-package/build/temp.macosx-10.9-x86_64-cpython-38/xgboost/src/learner.cc:767: \n",
      "Parameters: { \"silent\" } are not used.\n",
      "\n",
      "[0]\ttrain-mae:0.05269\ttest-mae:0.05269\n"
     ]
    },
    {
     "name": "stderr",
     "output_type": "stream",
     "text": [
      "/Users/arthi/opt/anaconda3/lib/python3.9/site-packages/xgboost/core.py:617: FutureWarning: Pass `evals` as keyword args.\n",
      "  warnings.warn(msg, FutureWarning)\n"
     ]
    },
    {
     "name": "stdout",
     "output_type": "stream",
     "text": [
      "[10]\ttrain-mae:0.05239\ttest-mae:0.05252\n",
      "[20]\ttrain-mae:0.05221\ttest-mae:0.05247\n",
      "[30]\ttrain-mae:0.05208\ttest-mae:0.05244\n",
      "[40]\ttrain-mae:0.05197\ttest-mae:0.05241\n",
      "[50]\ttrain-mae:0.05187\ttest-mae:0.05239\n",
      "[60]\ttrain-mae:0.05178\ttest-mae:0.05240\n",
      "[70]\ttrain-mae:0.05169\ttest-mae:0.05240\n",
      "[80]\ttrain-mae:0.05161\ttest-mae:0.05239\n",
      "[90]\ttrain-mae:0.05153\ttest-mae:0.05239\n",
      "[100]\ttrain-mae:0.05145\ttest-mae:0.05239\n",
      "[110]\ttrain-mae:0.05138\ttest-mae:0.05240\n",
      "[120]\ttrain-mae:0.05130\ttest-mae:0.05240\n",
      "[130]\ttrain-mae:0.05122\ttest-mae:0.05241\n",
      "[140]\ttrain-mae:0.05116\ttest-mae:0.05241\n",
      "[150]\ttrain-mae:0.05110\ttest-mae:0.05242\n",
      "[160]\ttrain-mae:0.05103\ttest-mae:0.05243\n",
      "[170]\ttrain-mae:0.05093\ttest-mae:0.05243\n",
      "[180]\ttrain-mae:0.05086\ttest-mae:0.05243\n",
      "[190]\ttrain-mae:0.05080\ttest-mae:0.05245\n"
     ]
    }
   ],
   "source": [
    "model = xgb.train(xgb_params, train_matrix_2017, 100000, [(train_matrix_2017, 'train'), (test_matrix_2017, 'test')], early_stopping_rounds=100, verbose_eval=10)"
   ]
  },
  {
   "cell_type": "code",
   "execution_count": 332,
   "id": "5f6046e4",
   "metadata": {},
   "outputs": [],
   "source": [
    "sample['parcelid'] = sample['ParcelId']\n",
    "\n",
    "df_test_2017 = sample.merge(predict_2017, on='parcelid', how='left')\n",
    "\n",
    "x_2017 = df_test_2017[num_columns]\n",
    "    \n",
    "matrix_2017 = xgb.DMatrix(x_2017)"
   ]
  },
  {
   "cell_type": "code",
   "execution_count": 333,
   "id": "1ea9f6f6",
   "metadata": {},
   "outputs": [],
   "source": [
    "prediction_data = model.predict(matrix_2017)\n",
    "y_values = []\n",
    "\n",
    "for num,predict in enumerate(prediction_data):\n",
    "    y_values.append(str(round(predict,4)))\n",
    "    \n",
    "y_values=np.array(y_values)"
   ]
  },
  {
   "cell_type": "code",
   "execution_count": 334,
   "id": "5f755714",
   "metadata": {},
   "outputs": [],
   "source": [
    "sample.pop('parcelid')\n",
    "sample['201710'] = y_values\n",
    "sample['201711'] = y_values\n",
    "sample['201712'] = y_values"
   ]
  },
  {
   "cell_type": "code",
   "execution_count": 335,
   "id": "808128bc",
   "metadata": {},
   "outputs": [],
   "source": [
    "sample.to_csv('./../submission/xgb.csv', index=False, float_format='%.4f')"
   ]
  },
  {
   "cell_type": "code",
   "execution_count": null,
   "id": "aa085507",
   "metadata": {},
   "outputs": [],
   "source": []
  }
 ],
 "metadata": {
  "kernelspec": {
   "display_name": "Python 3 (ipykernel)",
   "language": "python",
   "name": "python3"
  },
  "language_info": {
   "codemirror_mode": {
    "name": "ipython",
    "version": 3
   },
   "file_extension": ".py",
   "mimetype": "text/x-python",
   "name": "python",
   "nbconvert_exporter": "python",
   "pygments_lexer": "ipython3",
   "version": "3.9.12"
  }
 },
 "nbformat": 4,
 "nbformat_minor": 5
}
