{
 "cells": [
  {
   "cell_type": "code",
   "execution_count": 1,
   "metadata": {},
   "outputs": [
    {
     "name": "stderr",
     "output_type": "stream",
     "text": [
      "C:\\Users\\APC\\AppData\\Roaming\\Python\\Python38\\site-packages\\pandas\\core\\computation\\expressions.py:21: UserWarning: Pandas requires version '2.7.3' or newer of 'numexpr' (version '2.7.1' currently installed).\n",
      "  from pandas.core.computation.check import NUMEXPR_INSTALLED\n"
     ]
    }
   ],
   "source": [
    "import pandas as pd\n",
    "import numpy as np\n",
    "from sklearn.linear_model import RidgeCV\n",
    "from sklearn.linear_model import Ridge\n",
    "from sklearn.preprocessing import RobustScaler \n",
    "from sklearn.model_selection import train_test_split"
   ]
  },
  {
   "cell_type": "code",
   "execution_count": 17,
   "metadata": {},
   "outputs": [],
   "source": [
    "train_2016 = pd.read_csv('./../preprocessed data/df_train_2016.csv')\n",
    "predict_2016 = pd.read_csv('./../preprocessed data/df_predict_2016.csv')\n",
    "\n",
    "train_2017 = pd.read_csv('./../preprocessed data/df_train_2017.csv')\n",
    "predict_2017 = pd.read_csv('./../preprocessed data/df_predict_2017.csv')\n",
    "\n",
    "sample = pd.read_csv(\"./../data/sample_submission.csv\")"
   ]
  },
  {
   "cell_type": "code",
   "execution_count": 28,
   "metadata": {},
   "outputs": [],
   "source": [
    "def standardize(df):\n",
    "    numerical_columns = ['bathroomcnt', 'bedroomcnt','calculatedfinishedsquarefeet',\n",
    "       'fireplacecnt', 'garagecarcnt', 'garagetotalsqft','latitude', 'longitude', 'lotsizesquarefeet',\n",
    "       'poolcnt', 'poolsizesum','unitcnt',\n",
    "       'yardbuildingsqft17', 'structuretaxvaluedollarcnt',\n",
    "       'landtaxvaluedollarcnt', 'age']\n",
    "    for col in numerical_columns:\n",
    "        Q1 = df[col].quantile(0.25)\n",
    "        Q3 = df[col].quantile(0.75)\n",
    "        Q2 = df[col].quantile(0.5)\n",
    "        if Q3>Q1:\n",
    "            df[col] = (df[col]-Q2)/(Q3-Q1)\n",
    "    return df"
   ]
  },
  {
   "cell_type": "code",
   "execution_count": 29,
   "metadata": {},
   "outputs": [],
   "source": [
    "def polynomial(df, most_corr_feat):\n",
    "    for var in most_corr_feat:\n",
    "        s2_var_name = var + '-s2'\n",
    "        s3_var_name = var + '-s3'\n",
    "        sq_var_name = var + '-sqrt'\n",
    "\n",
    "        # Create features \n",
    "        df[s2_var_name] = df[var] ** 2 \n",
    "        df[s3_var_name] = df[var] ** 3 \n",
    "        df[sq_var_name] = np.sqrt(df[var]) \n",
    "    return df"
   ]
  },
  {
   "cell_type": "code",
   "execution_count": 30,
   "metadata": {},
   "outputs": [],
   "source": [
    "def outliner_drop(df):\n",
    "    Q1 = df['logerror'].quantile(0.25)\n",
    "    Q3 = df['logerror'].quantile(0.75)\n",
    "    IQR = Q3-Q1\n",
    "    lower_lim = Q1 - 1.5*IQR\n",
    "    upper_lim = Q3 + 1.5*IQR\n",
    "    df=df[df.logerror >= lower_lim ]\n",
    "    df=df[df.logerror <= upper_lim ]\n",
    "    return df"
   ]
  },
  {
   "cell_type": "markdown",
   "metadata": {},
   "source": [
    "# 2016 "
   ]
  },
  {
   "cell_type": "code",
   "execution_count": 31,
   "metadata": {},
   "outputs": [
    {
     "data": {
      "text/plain": [
       "Index(['calculatedfinishedsquarefeet', 'bathroomcnt', 'bedroomcnt',\n",
       "       'structuretaxvaluedollarcnt', 'age', 'poolcnt', 'garagetotalsqft',\n",
       "       'fireplacecnt'],\n",
       "      dtype='object')"
      ]
     },
     "execution_count": 31,
     "metadata": {},
     "output_type": "execute_result"
    }
   ],
   "source": [
    "numerical_columns = ['logerror','bathroomcnt', 'bedroomcnt','calculatedfinishedsquarefeet',\n",
    "       'fireplacecnt', 'garagecarcnt', 'garagetotalsqft', 'lotsizesquarefeet',\n",
    "       'poolcnt', 'poolsizesum','unitcnt',\n",
    "       'yardbuildingsqft17', 'structuretaxvaluedollarcnt',\n",
    "       'landtaxvaluedollarcnt', 'age']\n",
    "corr = train_2016[numerical_columns].corr()\n",
    "most_corr_feat = corr.logerror.abs().sort_values(ascending=False)[1:9].index\n",
    "most_corr_feat"
   ]
  },
  {
   "cell_type": "code",
   "execution_count": 32,
   "metadata": {},
   "outputs": [],
   "source": [
    "train_16 = train_2016.copy()\n",
    "train_16 = polynomial(train_16,most_corr_feat)\n",
    "train_16 = standardize(train_16)\n",
    "train_16 = outliner_drop(train_16)\n",
    "y = train_16['logerror']\n",
    "train_16 = train_16.drop(['logerror'],axis=1)\n",
    "\n",
    "predict_16 = predict_2016.drop(['parcelid'],axis=1)\n",
    "predict_16 = polynomial(predict_16,most_corr_feat)\n",
    "predict_16 = standardize(predict_16)"
   ]
  },
  {
   "cell_type": "code",
   "execution_count": 33,
   "metadata": {},
   "outputs": [
    {
     "name": "stdout",
     "output_type": "stream",
     "text": [
      "Testing with alphas=[1.00000000e+07 1.15139540e+07 1.32571137e+07 1.52641797e+07\n",
      " 1.75751062e+07 2.02358965e+07 2.32995181e+07 2.68269580e+07\n",
      " 3.08884360e+07 3.55648031e+07 4.09491506e+07 4.71486636e+07\n",
      " 5.42867544e+07 6.25055193e+07 7.19685673e+07 8.28642773e+07\n",
      " 9.54095476e+07 1.09854114e+08 1.26485522e+08 1.45634848e+08\n",
      " 1.67683294e+08 1.93069773e+08 2.22299648e+08 2.55954792e+08\n",
      " 2.94705170e+08 3.39322177e+08 3.90693994e+08 4.49843267e+08\n",
      " 5.17947468e+08 5.96362332e+08 6.86648845e+08 7.90604321e+08\n",
      " 9.10298178e+08 1.04811313e+09 1.20679264e+09 1.38949549e+09\n",
      " 1.59985872e+09 1.84206997e+09 2.12095089e+09 2.44205309e+09\n",
      " 2.81176870e+09 3.23745754e+09 3.72759372e+09 4.29193426e+09\n",
      " 4.94171336e+09 5.68986603e+09 6.55128557e+09 7.54312006e+09\n",
      " 8.68511374e+09 1.00000000e+10]\n",
      "Best Ridge Alpha: 26826957.95279727\n"
     ]
    }
   ],
   "source": [
    "# Set of alpha values to test\n",
    "alphas = np.logspace(7,10)\n",
    "#alphas = np.arange(28800000,28810000,100)\n",
    "print(f\"Testing with alphas={alphas}\")\n",
    "\n",
    "# Tune Ridge Regression\n",
    "ridgecv = RidgeCV(alphas=alphas)\n",
    "ridgecv.fit(train_16, y)\n",
    "print(f\"Best Ridge Alpha: {ridgecv.alpha_}\")"
   ]
  },
  {
   "cell_type": "code",
   "execution_count": 34,
   "metadata": {},
   "outputs": [
    {
     "name": "stdout",
     "output_type": "stream",
     "text": [
      "0.03544792232007029\n"
     ]
    },
    {
     "name": "stderr",
     "output_type": "stream",
     "text": [
      "C:\\Users\\APC\\anaconda3\\lib\\site-packages\\sklearn\\linear_model\\_ridge.py:147: LinAlgWarning: Ill-conditioned matrix (rcond=2.88362e-33): result may not be accurate.\n",
      "  return linalg.solve(A, Xy, sym_pos=True,\n"
     ]
    }
   ],
   "source": [
    "rlr = Ridge(alpha=ridgecv.alpha_)\n",
    "rlr.fit(train_16, y)\n",
    "\n",
    "y_pred=rlr.predict(train_16)\n",
    "df_y=abs(y-y_pred)\n",
    "MAE=df_y.sum()/len(y)\n",
    "print(MAE)"
   ]
  },
  {
   "cell_type": "code",
   "execution_count": 35,
   "metadata": {},
   "outputs": [],
   "source": [
    "Y = rlr.predict(predict_16)\n",
    "sample['201610'] = Y\n",
    "sample['201611'] = Y\n",
    "sample['201612'] = Y"
   ]
  },
  {
   "cell_type": "markdown",
   "metadata": {},
   "source": [
    "# 2017"
   ]
  },
  {
   "cell_type": "code",
   "execution_count": 36,
   "metadata": {},
   "outputs": [
    {
     "data": {
      "text/plain": [
       "Index(['calculatedfinishedsquarefeet', 'bedroomcnt', 'bathroomcnt',\n",
       "       'garagetotalsqft', 'garagecarcnt', 'lotsizesquarefeet', 'poolcnt',\n",
       "       'structuretaxvaluedollarcnt'],\n",
       "      dtype='object')"
      ]
     },
     "execution_count": 36,
     "metadata": {},
     "output_type": "execute_result"
    }
   ],
   "source": [
    "numerical_columns = ['logerror','bathroomcnt', 'bedroomcnt','calculatedfinishedsquarefeet',\n",
    "       'fireplacecnt', 'garagecarcnt', 'garagetotalsqft', 'lotsizesquarefeet',\n",
    "       'poolcnt', 'poolsizesum','unitcnt',\n",
    "       'yardbuildingsqft17', 'structuretaxvaluedollarcnt',\n",
    "       'landtaxvaluedollarcnt', 'age']\n",
    "corr = train_2017[numerical_columns].corr()\n",
    "most_corr_feat = corr.logerror.abs().sort_values(ascending=False)[1:9].index\n",
    "most_corr_feat"
   ]
  },
  {
   "cell_type": "code",
   "execution_count": 37,
   "metadata": {},
   "outputs": [],
   "source": [
    "train_17 = train_2017.copy()\n",
    "train_17 = polynomial(train_17,most_corr_feat)\n",
    "train_17 = standardize(train_17)\n",
    "train_17 = outliner_drop(train_17)\n",
    "y = train_17['logerror']\n",
    "train_17 = train_17.drop(['logerror'],axis=1)\n",
    "\n",
    "predict_17 = predict_2017.drop(['parcelid'],axis=1)\n",
    "predict_17 = polynomial(predict_17,most_corr_feat)\n",
    "predict_17 = standardize(predict_17)"
   ]
  },
  {
   "cell_type": "code",
   "execution_count": 38,
   "metadata": {},
   "outputs": [
    {
     "name": "stdout",
     "output_type": "stream",
     "text": [
      "Testing with alphas=[1.00000000e+07 1.15139540e+07 1.32571137e+07 1.52641797e+07\n",
      " 1.75751062e+07 2.02358965e+07 2.32995181e+07 2.68269580e+07\n",
      " 3.08884360e+07 3.55648031e+07 4.09491506e+07 4.71486636e+07\n",
      " 5.42867544e+07 6.25055193e+07 7.19685673e+07 8.28642773e+07\n",
      " 9.54095476e+07 1.09854114e+08 1.26485522e+08 1.45634848e+08\n",
      " 1.67683294e+08 1.93069773e+08 2.22299648e+08 2.55954792e+08\n",
      " 2.94705170e+08 3.39322177e+08 3.90693994e+08 4.49843267e+08\n",
      " 5.17947468e+08 5.96362332e+08 6.86648845e+08 7.90604321e+08\n",
      " 9.10298178e+08 1.04811313e+09 1.20679264e+09 1.38949549e+09\n",
      " 1.59985872e+09 1.84206997e+09 2.12095089e+09 2.44205309e+09\n",
      " 2.81176870e+09 3.23745754e+09 3.72759372e+09 4.29193426e+09\n",
      " 4.94171336e+09 5.68986603e+09 6.55128557e+09 7.54312006e+09\n",
      " 8.68511374e+09 1.00000000e+10]\n",
      "Best Ridge Alpha: 1599858719.6060574\n"
     ]
    }
   ],
   "source": [
    "# Set of alpha values to test\n",
    "alphas = np.logspace(7,10)\n",
    "#alphas = np.arange(28800000,28810000,100)\n",
    "print(f\"Testing with alphas={alphas}\")\n",
    "\n",
    "# Tune Ridge Regression\n",
    "ridgecv = RidgeCV(alphas=alphas)\n",
    "ridgecv.fit(train_17, y)\n",
    "print(f\"Best Ridge Alpha: {ridgecv.alpha_}\")"
   ]
  },
  {
   "cell_type": "code",
   "execution_count": 40,
   "metadata": {},
   "outputs": [
    {
     "name": "stdout",
     "output_type": "stream",
     "text": [
      "0.034826477951810396\n"
     ]
    },
    {
     "name": "stderr",
     "output_type": "stream",
     "text": [
      "C:\\Users\\APC\\anaconda3\\lib\\site-packages\\sklearn\\linear_model\\_ridge.py:147: LinAlgWarning: Ill-conditioned matrix (rcond=2.2452e-33): result may not be accurate.\n",
      "  return linalg.solve(A, Xy, sym_pos=True,\n"
     ]
    }
   ],
   "source": [
    "rlr = Ridge(alpha=ridgecv.alpha_)\n",
    "rlr.fit(train_17, y)\n",
    "\n",
    "y_pred=rlr.predict(train_17)\n",
    "df_y=abs(y-y_pred)\n",
    "MAE=df_y.sum()/len(y)\n",
    "print(MAE)"
   ]
  },
  {
   "cell_type": "code",
   "execution_count": 41,
   "metadata": {},
   "outputs": [],
   "source": [
    "Y = rlr.predict(predict_17)\n",
    "sample['201710'] = Y\n",
    "sample['201711'] = Y\n",
    "sample['201712'] = Y"
   ]
  },
  {
   "cell_type": "code",
   "execution_count": 48,
   "metadata": {},
   "outputs": [],
   "source": [
    "sample.to_csv('./../submission/ridge.csv', index=False, float_format='%.4f')"
   ]
  },
  {
   "cell_type": "code",
   "execution_count": 43,
   "metadata": {},
   "outputs": [
    {
     "data": {
      "text/html": [
       "<div>\n",
       "<style scoped>\n",
       "    .dataframe tbody tr th:only-of-type {\n",
       "        vertical-align: middle;\n",
       "    }\n",
       "\n",
       "    .dataframe tbody tr th {\n",
       "        vertical-align: top;\n",
       "    }\n",
       "\n",
       "    .dataframe thead th {\n",
       "        text-align: right;\n",
       "    }\n",
       "</style>\n",
       "<table border=\"1\" class=\"dataframe\">\n",
       "  <thead>\n",
       "    <tr style=\"text-align: right;\">\n",
       "      <th></th>\n",
       "      <th>ParcelId</th>\n",
       "      <th>201610</th>\n",
       "      <th>201611</th>\n",
       "      <th>201612</th>\n",
       "      <th>201710</th>\n",
       "      <th>201711</th>\n",
       "      <th>201712</th>\n",
       "    </tr>\n",
       "  </thead>\n",
       "  <tbody>\n",
       "    <tr>\n",
       "      <th>0</th>\n",
       "      <td>10754147</td>\n",
       "      <td>0.003768</td>\n",
       "      <td>0.003768</td>\n",
       "      <td>0.003768</td>\n",
       "      <td>0.004874</td>\n",
       "      <td>0.004874</td>\n",
       "      <td>0.004874</td>\n",
       "    </tr>\n",
       "    <tr>\n",
       "      <th>1</th>\n",
       "      <td>10759547</td>\n",
       "      <td>0.003732</td>\n",
       "      <td>0.003732</td>\n",
       "      <td>0.003732</td>\n",
       "      <td>0.004687</td>\n",
       "      <td>0.004687</td>\n",
       "      <td>0.004687</td>\n",
       "    </tr>\n",
       "    <tr>\n",
       "      <th>2</th>\n",
       "      <td>10843547</td>\n",
       "      <td>-21.431179</td>\n",
       "      <td>-21.431179</td>\n",
       "      <td>-21.431179</td>\n",
       "      <td>-17.498541</td>\n",
       "      <td>-17.498541</td>\n",
       "      <td>-17.498541</td>\n",
       "    </tr>\n",
       "    <tr>\n",
       "      <th>3</th>\n",
       "      <td>10859147</td>\n",
       "      <td>0.026977</td>\n",
       "      <td>0.026977</td>\n",
       "      <td>0.026977</td>\n",
       "      <td>0.026356</td>\n",
       "      <td>0.026356</td>\n",
       "      <td>0.026356</td>\n",
       "    </tr>\n",
       "    <tr>\n",
       "      <th>4</th>\n",
       "      <td>10879947</td>\n",
       "      <td>0.003789</td>\n",
       "      <td>0.003789</td>\n",
       "      <td>0.003789</td>\n",
       "      <td>0.005461</td>\n",
       "      <td>0.005461</td>\n",
       "      <td>0.005461</td>\n",
       "    </tr>\n",
       "    <tr>\n",
       "      <th>...</th>\n",
       "      <td>...</td>\n",
       "      <td>...</td>\n",
       "      <td>...</td>\n",
       "      <td>...</td>\n",
       "      <td>...</td>\n",
       "      <td>...</td>\n",
       "      <td>...</td>\n",
       "    </tr>\n",
       "    <tr>\n",
       "      <th>2985212</th>\n",
       "      <td>168176230</td>\n",
       "      <td>0.003368</td>\n",
       "      <td>0.003368</td>\n",
       "      <td>0.003368</td>\n",
       "      <td>0.004702</td>\n",
       "      <td>0.004702</td>\n",
       "      <td>0.004702</td>\n",
       "    </tr>\n",
       "    <tr>\n",
       "      <th>2985213</th>\n",
       "      <td>14273630</td>\n",
       "      <td>0.003368</td>\n",
       "      <td>0.003368</td>\n",
       "      <td>0.003368</td>\n",
       "      <td>0.006224</td>\n",
       "      <td>0.006224</td>\n",
       "      <td>0.006224</td>\n",
       "    </tr>\n",
       "    <tr>\n",
       "      <th>2985214</th>\n",
       "      <td>168040630</td>\n",
       "      <td>0.003368</td>\n",
       "      <td>0.003368</td>\n",
       "      <td>0.003368</td>\n",
       "      <td>0.004056</td>\n",
       "      <td>0.004056</td>\n",
       "      <td>0.004056</td>\n",
       "    </tr>\n",
       "    <tr>\n",
       "      <th>2985215</th>\n",
       "      <td>168040830</td>\n",
       "      <td>0.003368</td>\n",
       "      <td>0.003368</td>\n",
       "      <td>0.003368</td>\n",
       "      <td>0.008133</td>\n",
       "      <td>0.008133</td>\n",
       "      <td>0.008133</td>\n",
       "    </tr>\n",
       "    <tr>\n",
       "      <th>2985216</th>\n",
       "      <td>168040430</td>\n",
       "      <td>0.003368</td>\n",
       "      <td>0.003368</td>\n",
       "      <td>0.003368</td>\n",
       "      <td>0.004882</td>\n",
       "      <td>0.004882</td>\n",
       "      <td>0.004882</td>\n",
       "    </tr>\n",
       "  </tbody>\n",
       "</table>\n",
       "<p>2985217 rows × 7 columns</p>\n",
       "</div>"
      ],
      "text/plain": [
       "          ParcelId     201610     201611     201612     201710     201711  \\\n",
       "0         10754147   0.003768   0.003768   0.003768   0.004874   0.004874   \n",
       "1         10759547   0.003732   0.003732   0.003732   0.004687   0.004687   \n",
       "2         10843547 -21.431179 -21.431179 -21.431179 -17.498541 -17.498541   \n",
       "3         10859147   0.026977   0.026977   0.026977   0.026356   0.026356   \n",
       "4         10879947   0.003789   0.003789   0.003789   0.005461   0.005461   \n",
       "...            ...        ...        ...        ...        ...        ...   \n",
       "2985212  168176230   0.003368   0.003368   0.003368   0.004702   0.004702   \n",
       "2985213   14273630   0.003368   0.003368   0.003368   0.006224   0.006224   \n",
       "2985214  168040630   0.003368   0.003368   0.003368   0.004056   0.004056   \n",
       "2985215  168040830   0.003368   0.003368   0.003368   0.008133   0.008133   \n",
       "2985216  168040430   0.003368   0.003368   0.003368   0.004882   0.004882   \n",
       "\n",
       "            201712  \n",
       "0         0.004874  \n",
       "1         0.004687  \n",
       "2       -17.498541  \n",
       "3         0.026356  \n",
       "4         0.005461  \n",
       "...            ...  \n",
       "2985212   0.004702  \n",
       "2985213   0.006224  \n",
       "2985214   0.004056  \n",
       "2985215   0.008133  \n",
       "2985216   0.004882  \n",
       "\n",
       "[2985217 rows x 7 columns]"
      ]
     },
     "execution_count": 43,
     "metadata": {},
     "output_type": "execute_result"
    }
   ],
   "source": [
    "sample.boxplot"
   ]
  },
  {
   "cell_type": "code",
   "execution_count": 46,
   "metadata": {},
   "outputs": [
    {
     "data": {
      "text/plain": [
       "<AxesSubplot:>"
      ]
     },
     "execution_count": 46,
     "metadata": {},
     "output_type": "execute_result"
    },
    {
     "data": {
      "image/png": "[encoded data removed]",
      "text/plain": [
       "<Figure size 432x288 with 1 Axes>"
      ]
     },
     "metadata": {
      "needs_background": "light"
     },
     "output_type": "display_data"
    }
   ],
   "source": [
    "sample.boxplot('201610')"
   ]
  },
  {
   "cell_type": "code",
   "execution_count": 47,
   "metadata": {},
   "outputs": [
    {
     "data": {
      "text/plain": [
       "<AxesSubplot:>"
      ]
     },
     "execution_count": 47,
     "metadata": {},
     "output_type": "execute_result"
    },
    {
     "data": {
      "image/png": "[encoded data removed]",
      "text/plain": [
       "<Figure size 432x288 with 1 Axes>"
      ]
     },
     "metadata": {
      "needs_background": "light"
     },
     "output_type": "display_data"
    }
   ],
   "source": [
    "predict_2016.boxplot('calculatedfinishedsquarefeet')"
   ]
  },
  {
   "cell_type": "code",
   "execution_count": null,
   "metadata": {},
   "outputs": [],
   "source": []
  }
 ],
 "metadata": {
  "kernelspec": {
   "display_name": "Python 3",
   "language": "python",
   "name": "python3"
  },
  "language_info": {
   "codemirror_mode": {
    "name": "ipython",
    "version": 3
   },
   "file_extension": ".py",
   "mimetype": "text/x-python",
   "name": "python",
   "nbconvert_exporter": "python",
   "pygments_lexer": "ipython3",
   "version": "3.8.5"
  }
 },
 "nbformat": 4,
 "nbformat_minor": 4
}
