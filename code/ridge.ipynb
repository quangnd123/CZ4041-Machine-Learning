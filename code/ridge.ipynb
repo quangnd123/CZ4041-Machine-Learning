{
 "cells": [
  {
   "cell_type": "code",
   "execution_count": 1,
   "metadata": {},
   "outputs": [
    {
     "name": "stderr",
     "output_type": "stream",
     "text": [
      "C:\\Users\\APC\\AppData\\Roaming\\Python\\Python38\\site-packages\\pandas\\core\\computation\\expressions.py:21: UserWarning: Pandas requires version '2.7.3' or newer of 'numexpr' (version '2.7.1' currently installed).\n",
      "  from pandas.core.computation.check import NUMEXPR_INSTALLED\n"
     ]
    }
   ],
   "source": [
    "import pandas as pd\n",
    "import numpy as np\n",
    "from sklearn.linear_model import RidgeCV\n",
    "from sklearn.linear_model import Ridge\n",
    "from sklearn.preprocessing import RobustScaler \n",
    "from sklearn.model_selection import train_test_split"
   ]
  },
  {
   "cell_type": "code",
   "execution_count": 2,
   "metadata": {},
   "outputs": [],
   "source": [
    "train_2016 = pd.read_csv('./../preprocessed data/df_train_2016.csv')\n",
    "predict_2016 = pd.read_csv('./../preprocessed data/df_predict_2016.csv')\n",
    "\n",
    "train_2017 = pd.read_csv('./../preprocessed data/df_train_2017.csv')\n",
    "predict_2017 = pd.read_csv('./../preprocessed data/df_predict_2017.csv')\n",
    "\n",
    "sample = pd.read_csv(\"./../data/sample_submission.csv\")"
   ]
  },
  {
   "cell_type": "code",
   "execution_count": 3,
   "metadata": {},
   "outputs": [],
   "source": [
    "def standardize(df):\n",
    "    numerical_columns = ['bathroomcnt', 'bedroomcnt','calculatedfinishedsquarefeet',\n",
    "       'fireplacecnt', 'garagecarcnt', 'garagetotalsqft','latitude', 'longitude', 'lotsizesquarefeet',\n",
    "       'poolcnt', 'poolsizesum','unitcnt',\n",
    "       'yardbuildingsqft17', 'structuretaxvaluedollarcnt',\n",
    "       'landtaxvaluedollarcnt', 'age']\n",
    "    for col in numerical_columns:\n",
    "        Q1 = df[col].quantile(0.25)\n",
    "        Q3 = df[col].quantile(0.75)\n",
    "        Q2 = df[col].quantile(0.5)\n",
    "        if Q3>Q1:\n",
    "            df[col] = (df[col]-Q2)/(Q3-Q1)\n",
    "    return df"
   ]
  },
  {
   "cell_type": "code",
   "execution_count": 4,
   "metadata": {},
   "outputs": [],
   "source": [
    "def polynomial(df, most_corr_feat):\n",
    "    for var in most_corr_feat:\n",
    "        s2_var_name = var + '-s2'\n",
    "        s3_var_name = var + '-s3'\n",
    "        sq_var_name = var + '-sqrt'\n",
    "\n",
    "        # Create features \n",
    "        df[s2_var_name] = df[var] ** 2 \n",
    "        df[s3_var_name] = df[var] ** 3 \n",
    "        df[sq_var_name] = np.sqrt(df[var]) \n",
    "    return df"
   ]
  },
  {
   "cell_type": "code",
   "execution_count": 5,
   "metadata": {},
   "outputs": [],
   "source": [
    "def outliner_drop(df):\n",
    "    Q1 = df['logerror'].quantile(0.25)\n",
    "    Q3 = df['logerror'].quantile(0.75)\n",
    "    IQR = Q3-Q1\n",
    "    lower_lim = Q1 - 1.5*IQR\n",
    "    upper_lim = Q3 + 1.5*IQR\n",
    "    df=df[df.logerror >= lower_lim ]\n",
    "    df=df[df.logerror <= upper_lim ]\n",
    "    return df"
   ]
  },
  {
   "cell_type": "markdown",
   "metadata": {},
   "source": [
    "# 2016 "
   ]
  },
  {
   "cell_type": "code",
   "execution_count": 6,
   "metadata": {},
   "outputs": [
    {
     "data": {
      "text/plain": [
       "Index(['calculatedfinishedsquarefeet', 'bathroomcnt', 'bedroomcnt',\n",
       "       'structuretaxvaluedollarcnt', 'age', 'poolcnt', 'garagetotalsqft',\n",
       "       'fireplacecnt'],\n",
       "      dtype='object')"
      ]
     },
     "execution_count": 6,
     "metadata": {},
     "output_type": "execute_result"
    }
   ],
   "source": [
    "numerical_columns = ['logerror','bathroomcnt', 'bedroomcnt','calculatedfinishedsquarefeet',\n",
    "       'fireplacecnt', 'garagecarcnt', 'garagetotalsqft', 'lotsizesquarefeet',\n",
    "       'poolcnt', 'poolsizesum','unitcnt',\n",
    "       'yardbuildingsqft17', 'structuretaxvaluedollarcnt',\n",
    "       'landtaxvaluedollarcnt', 'age']\n",
    "corr = train_2016[numerical_columns].corr()\n",
    "most_corr_feat = corr.logerror.abs().sort_values(ascending=False)[1:9].index\n",
    "most_corr_feat"
   ]
  },
  {
   "cell_type": "code",
   "execution_count": 7,
   "metadata": {},
   "outputs": [],
   "source": [
    "train_16 = train_2016.copy()\n",
    "train_16 = polynomial(train_16,most_corr_feat)\n",
    "train_16 = standardize(train_16)\n",
    "train_16 = outliner_drop(train_16)\n",
    "y = train_16['logerror']\n",
    "train_16 = train_16.drop(['logerror'],axis=1)\n",
    "\n",
    "predict_16 = predict_2016.drop(['parcelid'],axis=1)\n",
    "predict_16 = polynomial(predict_16,most_corr_feat)\n",
    "predict_16 = standardize(predict_16)"
   ]
  },
  {
   "cell_type": "code",
   "execution_count": 8,
   "metadata": {},
   "outputs": [
    {
     "name": "stdout",
     "output_type": "stream",
     "text": [
      "Testing with alphas=[28800000 28800100 28800200 28800300 28800400 28800500 28800600 28800700\n",
      " 28800800 28800900 28801000 28801100 28801200 28801300 28801400 28801500\n",
      " 28801600 28801700 28801800 28801900 28802000 28802100 28802200 28802300\n",
      " 28802400 28802500 28802600 28802700 28802800 28802900 28803000 28803100\n",
      " 28803200 28803300 28803400 28803500 28803600 28803700 28803800 28803900\n",
      " 28804000 28804100 28804200 28804300 28804400 28804500 28804600 28804700\n",
      " 28804800 28804900 28805000 28805100 28805200 28805300 28805400 28805500\n",
      " 28805600 28805700 28805800 28805900 28806000 28806100 28806200 28806300\n",
      " 28806400 28806500 28806600 28806700 28806800 28806900 28807000 28807100\n",
      " 28807200 28807300 28807400 28807500 28807600 28807700 28807800 28807900\n",
      " 28808000 28808100 28808200 28808300 28808400 28808500 28808600 28808700\n",
      " 28808800 28808900 28809000 28809100 28809200 28809300 28809400 28809500\n",
      " 28809600 28809700 28809800 28809900]\n",
      "Best Ridge Alpha: 28800000\n"
     ]
    }
   ],
   "source": [
    "# Set of alpha values to test\n",
    "#alphas = np.logspace(7,10)\n",
    "alphas = np.arange(28800000,28810000,100)\n",
    "print(f\"Testing with alphas={alphas}\")\n",
    "\n",
    "# Tune Ridge Regression\n",
    "ridgecv = RidgeCV(alphas=alphas)\n",
    "ridgecv.fit(train_16, y)\n",
    "print(f\"Best Ridge Alpha: {ridgecv.alpha_}\")"
   ]
  },
  {
   "cell_type": "code",
   "execution_count": 9,
   "metadata": {},
   "outputs": [
    {
     "name": "stdout",
     "output_type": "stream",
     "text": [
      "0.03544808577439068\n"
     ]
    },
    {
     "name": "stderr",
     "output_type": "stream",
     "text": [
      "C:\\Users\\APC\\anaconda3\\lib\\site-packages\\sklearn\\linear_model\\_ridge.py:147: LinAlgWarning: Ill-conditioned matrix (rcond=3.09851e-33): result may not be accurate.\n",
      "  return linalg.solve(A, Xy, sym_pos=True,\n"
     ]
    }
   ],
   "source": [
    "rlr = Ridge(alpha=ridgecv.alpha_)\n",
    "rlr.fit(train_16, y)\n",
    "\n",
    "y_pred=rlr.predict(train_16)\n",
    "df_y=abs(y-y_pred)\n",
    "MAE=df_y.sum()/len(y)\n",
    "print(MAE)"
   ]
  },
  {
   "cell_type": "code",
   "execution_count": 10,
   "metadata": {},
   "outputs": [],
   "source": [
    "Y = rlr.predict(predict_16)\n",
    "sample['201610'] = Y\n",
    "sample['201611'] = Y\n",
    "sample['201612'] = Y"
   ]
  },
  {
   "cell_type": "markdown",
   "metadata": {},
   "source": [
    "# 2017"
   ]
  },
  {
   "cell_type": "code",
   "execution_count": 20,
   "metadata": {},
   "outputs": [
    {
     "data": {
      "text/plain": [
       "Index(['calculatedfinishedsquarefeet', 'bathroomcnt', 'bedroomcnt',\n",
       "       'structuretaxvaluedollarcnt', 'age', 'poolcnt', 'garagetotalsqft',\n",
       "       'fireplacecnt'],\n",
       "      dtype='object')"
      ]
     },
     "execution_count": 20,
     "metadata": {},
     "output_type": "execute_result"
    }
   ],
   "source": [
    "numerical_columns = ['logerror','bathroomcnt', 'bedroomcnt','calculatedfinishedsquarefeet',\n",
    "       'fireplacecnt', 'garagecarcnt', 'garagetotalsqft', 'lotsizesquarefeet',\n",
    "       'poolcnt', 'poolsizesum','unitcnt',\n",
    "       'yardbuildingsqft17', 'structuretaxvaluedollarcnt',\n",
    "       'landtaxvaluedollarcnt', 'age']\n",
    "corr = train_2016[numerical_columns].corr()\n",
    "most_corr_feat = corr.logerror.abs().sort_values(ascending=False)[1:9].index\n",
    "most_corr_feat"
   ]
  },
  {
   "cell_type": "code",
   "execution_count": 21,
   "metadata": {},
   "outputs": [],
   "source": [
    "train_17 = train_2017.copy()\n",
    "train_17 = polynomial(train_17,most_corr_feat)\n",
    "train_17 = standardize(train_17)\n",
    "train_17 = outliner_drop(train_17)\n",
    "y = train_17['logerror']\n",
    "train_17 = train_17.drop(['logerror'],axis=1)\n",
    "\n",
    "predict_17 = predict_2017.drop(['parcelid'],axis=1)\n",
    "predict_17 = polynomial(predict_17,most_corr_feat)\n",
    "predict_17 = standardize(predict_17)"
   ]
  },
  {
   "cell_type": "code",
   "execution_count": 22,
   "metadata": {},
   "outputs": [
    {
     "name": "stdout",
     "output_type": "stream",
     "text": [
      "Testing with alphas=[1.00000000e+08 1.15139540e+08 1.32571137e+08 1.52641797e+08\n",
      " 1.75751062e+08 2.02358965e+08 2.32995181e+08 2.68269580e+08\n",
      " 3.08884360e+08 3.55648031e+08 4.09491506e+08 4.71486636e+08\n",
      " 5.42867544e+08 6.25055193e+08 7.19685673e+08 8.28642773e+08\n",
      " 9.54095476e+08 1.09854114e+09 1.26485522e+09 1.45634848e+09\n",
      " 1.67683294e+09 1.93069773e+09 2.22299648e+09 2.55954792e+09\n",
      " 2.94705170e+09 3.39322177e+09 3.90693994e+09 4.49843267e+09\n",
      " 5.17947468e+09 5.96362332e+09 6.86648845e+09 7.90604321e+09\n",
      " 9.10298178e+09 1.04811313e+10 1.20679264e+10 1.38949549e+10\n",
      " 1.59985872e+10 1.84206997e+10 2.12095089e+10 2.44205309e+10\n",
      " 2.81176870e+10 3.23745754e+10 3.72759372e+10 4.29193426e+10\n",
      " 4.94171336e+10 5.68986603e+10 6.55128557e+10 7.54312006e+10\n",
      " 8.68511374e+10 1.00000000e+11]\n",
      "Best Ridge Alpha: 100000000.0\n"
     ]
    }
   ],
   "source": [
    "# Set of alpha values to test\n",
    "alphas = np.logspace(8,11)\n",
    "#alphas = np.arange(28800000,28810000,100)\n",
    "print(f\"Testing with alphas={alphas}\")\n",
    "\n",
    "# Tune Ridge Regression\n",
    "ridgecv = RidgeCV(alphas=alphas)\n",
    "ridgecv.fit(train_17, y)\n",
    "print(f\"Best Ridge Alpha: {ridgecv.alpha_}\")"
   ]
  },
  {
   "cell_type": "code",
   "execution_count": 23,
   "metadata": {},
   "outputs": [
    {
     "name": "stdout",
     "output_type": "stream",
     "text": [
      "0.034824034857191724\n"
     ]
    },
    {
     "name": "stderr",
     "output_type": "stream",
     "text": [
      "C:\\Users\\APC\\anaconda3\\lib\\site-packages\\sklearn\\linear_model\\_ridge.py:147: LinAlgWarning: Ill-conditioned matrix (rcond=1.21174e-32): result may not be accurate.\n",
      "  return linalg.solve(A, Xy, sym_pos=True,\n"
     ]
    }
   ],
   "source": [
    "rlr = Ridge(alpha=ridgecv.alpha_)\n",
    "rlr.fit(train_17, y)\n",
    "\n",
    "y_pred=rlr.predict(train_17)\n",
    "df_y=abs(y-y_pred)\n",
    "MAE=df_y.sum()/len(y)\n",
    "print(MAE)"
   ]
  },
  {
   "cell_type": "code",
   "execution_count": 15,
   "metadata": {},
   "outputs": [],
   "source": [
    "Y = rlr.predict(predict_17)\n",
    "sample['201610'] = Y\n",
    "sample['201611'] = Y\n",
    "sample['201612'] = Y"
   ]
  },
  {
   "cell_type": "code",
   "execution_count": 16,
   "metadata": {},
   "outputs": [],
   "source": [
    "sample.to_csv('./../submission/ridge.csv', index=False, float_format='%.4f')"
   ]
  },
  {
   "cell_type": "code",
   "execution_count": null,
   "metadata": {},
   "outputs": [],
   "source": []
  }
 ],
 "metadata": {
  "kernelspec": {
   "display_name": "Python 3",
   "language": "python",
   "name": "python3"
  },
  "language_info": {
   "codemirror_mode": {
    "name": "ipython",
    "version": 3
   },
   "file_extension": ".py",
   "mimetype": "text/x-python",
   "name": "python",
   "nbconvert_exporter": "python",
   "pygments_lexer": "ipython3",
   "version": "3.8.5"
  }
 },
 "nbformat": 4,
 "nbformat_minor": 4
}
