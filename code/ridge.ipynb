{
 "cells": [
  {
   "cell_type": "code",
   "execution_count": 1,
   "metadata": {},
   "outputs": [
    {
     "name": "stderr",
     "output_type": "stream",
     "text": [
      "C:\\Users\\APC\\AppData\\Roaming\\Python\\Python38\\site-packages\\pandas\\core\\computation\\expressions.py:21: UserWarning: Pandas requires version '2.7.3' or newer of 'numexpr' (version '2.7.1' currently installed).\n",
      "  from pandas.core.computation.check import NUMEXPR_INSTALLED\n"
     ]
    }
   ],
   "source": [
    "import pandas as pd\n",
    "import numpy as np\n",
    "from sklearn.linear_model import RidgeCV\n",
    "from sklearn.linear_model import Ridge\n",
    "from sklearn.preprocessing import RobustScaler \n",
    "from sklearn.model_selection import train_test_split\n",
    "from sklearn.ensemble import RandomForestRegressor"
   ]
  },
  {
   "cell_type": "code",
   "execution_count": 2,
   "metadata": {},
   "outputs": [],
   "source": [
    "train_2016 = pd.read_csv('./../preprocessed data/df_train_2016.csv')\n",
    "predict_2016 = pd.read_csv('./../preprocessed data/df_predict_2016.csv')\n",
    "\n",
    "train_2017 = pd.read_csv('./../preprocessed data/df_train_2017.csv')\n",
    "predict_2017 = pd.read_csv('./../preprocessed data/df_predict_2017.csv')\n",
    "\n",
    "sample = pd.read_csv(\"./../data/sample_submission.csv\")"
   ]
  },
  {
   "cell_type": "code",
   "execution_count": 59,
   "metadata": {},
   "outputs": [],
   "source": [
    "def standardize(df):\n",
    "    numerical_columns = ['bathroomcnt', 'bedroomcnt','calculatedfinishedsquarefeet',\n",
    "       'fireplacecnt', 'garagecarcnt', 'garagetotalsqft','latitude', 'longitude', 'lotsizesquarefeet',\n",
    "       'poolcnt', 'poolsizesum','unitcnt',\n",
    "       'yardbuildingsqft17', 'structuretaxvaluedollarcnt',\n",
    "       'landtaxvaluedollarcnt', 'age']\n",
    "    for col in numerical_columns:\n",
    "        Q1 = df[col].quantile(0.25)\n",
    "        Q3 = df[col].quantile(0.75)\n",
    "        Q2 = df[col].quantile(0.5)\n",
    "        if Q3>Q1:\n",
    "            df[col] = (df[col]-Q2)/(Q3-Q1)\n",
    "    return df"
   ]
  },
  {
   "cell_type": "code",
   "execution_count": 159,
   "metadata": {},
   "outputs": [],
   "source": [
    "def polynomial( X): \n",
    "        for var in ['bedroomcnt', 'bathroomcnt', 'calculatedfinishedsquarefeet']: \n",
    "            # New var names \n",
    "            s2_var_name = var + '-s2'\n",
    "            s3_var_name = var + '-s3'\n",
    "            sq_var_name = var + '-sqrt'\n",
    "            \n",
    "            # Create features \n",
    "            X[s2_var_name] = X[var] ** 2 \n",
    "            X[s3_var_name] = X[var] ** 3 \n",
    "            X[sq_var_name] = np.sqrt(X[var] )  # Translate feature to ensure min value is 0 before sqrt \n",
    "            \n",
    "        return X"
   ]
  },
  {
   "cell_type": "code",
   "execution_count": 131,
   "metadata": {},
   "outputs": [],
   "source": [
    "def outliner_drop(df):\n",
    "    Q1 = df['logerror'].quantile(0.25)\n",
    "    Q3 = df['logerror'].quantile(0.75)\n",
    "    IQR = Q3-Q1\n",
    "    lower_lim = Q1 - 1.5*IQR\n",
    "    upper_lim = Q3 + 1.5*IQR\n",
    "    df=df[df.logerror >= lower_lim ]\n",
    "    df=df[df.logerror <= upper_lim ]\n",
    "    return df"
   ]
  },
  {
   "cell_type": "markdown",
   "metadata": {},
   "source": [
    "# 2016 "
   ]
  },
  {
   "cell_type": "code",
   "execution_count": 78,
   "metadata": {},
   "outputs": [
    {
     "data": {
      "text/plain": [
       "Index(['calculatedfinishedsquarefeet', 'bathroomcnt', 'bedroomcnt',\n",
       "       'structuretaxvaluedollarcnt', 'age', 'poolcnt', 'garagetotalsqft',\n",
       "       'fireplacecnt'],\n",
       "      dtype='object')"
      ]
     },
     "execution_count": 78,
     "metadata": {},
     "output_type": "execute_result"
    }
   ],
   "source": [
    "numerical_columns = ['logerror','bathroomcnt', 'bedroomcnt','calculatedfinishedsquarefeet',\n",
    "       'fireplacecnt', 'garagecarcnt', 'garagetotalsqft', 'lotsizesquarefeet',\n",
    "       'poolcnt', 'poolsizesum','unitcnt',\n",
    "       'yardbuildingsqft17', 'structuretaxvaluedollarcnt',\n",
    "       'landtaxvaluedollarcnt', 'age']\n",
    "corr = train_2016[numerical_columns].corr()\n",
    "most_corr_feat = corr.logerror.abs().sort_values(ascending=False)[1:9].index\n",
    "most_corr_feat"
   ]
  },
  {
   "cell_type": "code",
   "execution_count": 177,
   "metadata": {},
   "outputs": [],
   "source": [
    "train_16 = train_2016.copy()\n",
    "# train_16 = outliner_drop(train_16)\n",
    "train_16 = polynomial(train_16)\n",
    "train_16 = standardize(train_16)\n",
    "y = train_16['logerror']\n",
    "train_16 = train_16.drop(['logerror'],axis=1)\n",
    "\n",
    "predict_16 = predict_2016.drop(['parcelid'],axis=1)\n",
    "predict_16 = polynomial(predict_16)\n",
    "predict_16 = standardize(predict_16)"
   ]
  },
  {
   "cell_type": "code",
   "execution_count": 178,
   "metadata": {},
   "outputs": [
    {
     "name": "stdout",
     "output_type": "stream",
     "text": [
      "0.01670512482820633\n"
     ]
    },
    {
     "name": "stderr",
     "output_type": "stream",
     "text": [
      "C:\\Users\\APC\\anaconda3\\lib\\site-packages\\sklearn\\linear_model\\_ridge.py:147: LinAlgWarning: Ill-conditioned matrix (rcond=2.66995e-27): result may not be accurate.\n",
      "  return linalg.solve(A, Xy, sym_pos=True,\n"
     ]
    }
   ],
   "source": [
    "X_train, X_test, y_train, y_test = train_test_split(train_16, y, test_size=0.25, shuffle=False)\n",
    "rlr = Ridge()\n",
    "rlr.fit(X_train, y_train)\n",
    "\n",
    "y_pred=rlr.predict(X_test)\n",
    "df_y=abs(y_test-y_pred)\n",
    "MAE=df_y.sum()/len(y)\n",
    "print(MAE)"
   ]
  },
  {
   "cell_type": "code",
   "execution_count": 167,
   "metadata": {},
   "outputs": [
    {
     "name": "stdout",
     "output_type": "stream",
     "text": [
      "Testing with alphas=[ 10.          10.48113134  10.98541142  11.51395399  12.06792641\n",
      "  12.64855217  13.25711366  13.89495494  14.56348478  15.26417967\n",
      "  15.9985872   16.76832937  17.57510625  18.42069969  19.30697729\n",
      "  20.23589648  21.20950888  22.22996483  23.29951811  24.42053095\n",
      "  25.59547923  26.82695795  28.11768698  29.47051703  30.88843596\n",
      "  32.37457543  33.93221772  35.56480306  37.2759372   39.06939937\n",
      "  40.94915062  42.9193426   44.98432669  47.14866363  49.41713361\n",
      "  51.79474679  54.28675439  56.89866029  59.63623317  62.50551925\n",
      "  65.51285569  68.6648845   71.9685673   75.43120063  79.06043211\n",
      "  82.86427729  86.85113738  91.0298178   95.40954763 100.        ]\n",
      "Best Ridge Alpha: 71.96856730011521\n"
     ]
    }
   ],
   "source": [
    "# Set of alpha values to test\n",
    "alphas = np.logspace(1,2)\n",
    "#alphas = np.arange(28800000,28810000,100)\n",
    "print(f\"Testing with alphas={alphas}\")\n",
    "\n",
    "# Tune Ridge Regression\n",
    "ridgecv = RidgeCV(alphas=alphas)\n",
    "ridgecv.fit(train_16, y)\n",
    "print(f\"Best Ridge Alpha: {ridgecv.alpha_}\")"
   ]
  },
  {
   "cell_type": "code",
   "execution_count": 168,
   "metadata": {},
   "outputs": [
    {
     "name": "stdout",
     "output_type": "stream",
     "text": [
      "0.035294476136914374\n"
     ]
    },
    {
     "name": "stderr",
     "output_type": "stream",
     "text": [
      "C:\\Users\\APC\\anaconda3\\lib\\site-packages\\sklearn\\linear_model\\_ridge.py:147: LinAlgWarning: Ill-conditioned matrix (rcond=2.0485e-25): result may not be accurate.\n",
      "  return linalg.solve(A, Xy, sym_pos=True,\n"
     ]
    }
   ],
   "source": [
    "rlr = Ridge(alpha=ridgecv.alpha_)\n",
    "rlr.fit(train_16, y)\n",
    "\n",
    "y_pred=rlr.predict(train_16)\n",
    "df_y=abs(y-y_pred)\n",
    "MAE=df_y.sum()/len(y)\n",
    "print(MAE)"
   ]
  },
  {
   "cell_type": "code",
   "execution_count": 169,
   "metadata": {},
   "outputs": [],
   "source": [
    "Y = rlr.predict(predict_16)\n",
    "sample['201610'] = Y\n",
    "sample['201611'] = Y\n",
    "sample['201612'] = Y"
   ]
  },
  {
   "cell_type": "markdown",
   "metadata": {},
   "source": [
    "# 2017"
   ]
  },
  {
   "cell_type": "code",
   "execution_count": 103,
   "metadata": {},
   "outputs": [
    {
     "data": {
      "text/plain": [
       "Index(['calculatedfinishedsquarefeet', 'bedroomcnt', 'bathroomcnt',\n",
       "       'garagetotalsqft', 'garagecarcnt', 'lotsizesquarefeet', 'poolcnt',\n",
       "       'structuretaxvaluedollarcnt'],\n",
       "      dtype='object')"
      ]
     },
     "execution_count": 103,
     "metadata": {},
     "output_type": "execute_result"
    }
   ],
   "source": [
    "numerical_columns = ['logerror','bathroomcnt', 'bedroomcnt','calculatedfinishedsquarefeet',\n",
    "       'fireplacecnt', 'garagecarcnt', 'garagetotalsqft', 'lotsizesquarefeet',\n",
    "       'poolcnt', 'poolsizesum','unitcnt',\n",
    "       'yardbuildingsqft17', 'structuretaxvaluedollarcnt',\n",
    "       'landtaxvaluedollarcnt', 'age']\n",
    "corr = train_2017[numerical_columns].corr()\n",
    "most_corr_feat = corr.logerror.abs().sort_values(ascending=False)[1:9].index\n",
    "most_corr_feat"
   ]
  },
  {
   "cell_type": "code",
   "execution_count": 170,
   "metadata": {},
   "outputs": [],
   "source": [
    "train_17 = train_2017.copy()\n",
    "train_17 = outliner_drop(train_17)\n",
    "train_17 = polynomial(train_17)\n",
    "train_17 = standardize(train_17)\n",
    "y = train_17['logerror']\n",
    "train_17 = train_17.drop(['logerror'],axis=1)\n",
    "\n",
    "predict_17 = predict_2017.drop(['parcelid'],axis=1)\n",
    "predict_17 = polynomial(predict_17)\n",
    "predict_17 = standardize(predict_17)"
   ]
  },
  {
   "cell_type": "code",
   "execution_count": 172,
   "metadata": {},
   "outputs": [
    {
     "name": "stdout",
     "output_type": "stream",
     "text": [
      "Testing with alphas=[  1.           1.09854114   1.20679264   1.32571137   1.45634848\n",
      "   1.59985872   1.75751062   1.93069773   2.12095089   2.32995181\n",
      "   2.55954792   2.8117687    3.0888436    3.39322177   3.72759372\n",
      "   4.09491506   4.49843267   4.94171336   5.42867544   5.96362332\n",
      "   6.55128557   7.19685673   7.90604321   8.68511374   9.54095476\n",
      "  10.48113134  11.51395399  12.64855217  13.89495494  15.26417967\n",
      "  16.76832937  18.42069969  20.23589648  22.22996483  24.42053095\n",
      "  26.82695795  29.47051703  32.37457543  35.56480306  39.06939937\n",
      "  42.9193426   47.14866363  51.79474679  56.89866029  62.50551925\n",
      "  68.6648845   75.43120063  82.86427729  91.0298178  100.        ]\n",
      "Best Ridge Alpha: 4.094915062380425\n"
     ]
    }
   ],
   "source": [
    "# Set of alpha values to test\n",
    "alphas = np.logspace(0,2)\n",
    "#alphas = np.arange(28800000,28810000,100)\n",
    "print(f\"Testing with alphas={alphas}\")\n",
    "\n",
    "# Tune Ridge Regression\n",
    "ridgecv = RidgeCV(alphas=alphas)\n",
    "ridgecv.fit(train_17, y)\n",
    "print(f\"Best Ridge Alpha: {ridgecv.alpha_}\")"
   ]
  },
  {
   "cell_type": "code",
   "execution_count": 173,
   "metadata": {},
   "outputs": [
    {
     "name": "stdout",
     "output_type": "stream",
     "text": [
      "0.034728250026171824\n"
     ]
    },
    {
     "name": "stderr",
     "output_type": "stream",
     "text": [
      "C:\\Users\\APC\\anaconda3\\lib\\site-packages\\sklearn\\linear_model\\_ridge.py:147: LinAlgWarning: Ill-conditioned matrix (rcond=2.10057e-26): result may not be accurate.\n",
      "  return linalg.solve(A, Xy, sym_pos=True,\n"
     ]
    }
   ],
   "source": [
    "rlr = Ridge(alpha=ridgecv.alpha_)\n",
    "rlr.fit(train_17, y)\n",
    "\n",
    "y_pred=rlr.predict(train_17)\n",
    "df_y=abs(y-y_pred)\n",
    "MAE=df_y.sum()/len(y)\n",
    "print(MAE)"
   ]
  },
  {
   "cell_type": "code",
   "execution_count": 174,
   "metadata": {},
   "outputs": [],
   "source": [
    "Y = rlr.predict(predict_17)\n",
    "sample['201710'] = Y\n",
    "sample['201711'] = Y\n",
    "sample['201712'] = Y"
   ]
  },
  {
   "cell_type": "code",
   "execution_count": 175,
   "metadata": {},
   "outputs": [],
   "source": [
    "sample.to_csv('./../submission/ridge.csv', index=False, float_format='%.4f')"
   ]
  },
  {
   "cell_type": "code",
   "execution_count": 48,
   "metadata": {},
   "outputs": [
    {
     "data": {
      "text/plain": [
       "<AxesSubplot:>"
      ]
     },
     "execution_count": 48,
     "metadata": {},
     "output_type": "execute_result"
    },
    {
     "data": {
      "image/png": "[encoded data removed]",
      "text/plain": [
       "<Figure size 432x288 with 1 Axes>"
      ]
     },
     "metadata": {
      "needs_background": "light"
     },
     "output_type": "display_data"
    }
   ],
   "source": [
    "train_2016.boxplot(column=['logerror'])  "
   ]
  },
  {
   "cell_type": "code",
   "execution_count": 143,
   "metadata": {},
   "outputs": [
    {
     "data": {
      "text/plain": [
       "<AxesSubplot:xlabel='bathroomcnt'>"
      ]
     },
     "execution_count": 143,
     "metadata": {},
     "output_type": "execute_result"
    },
    {
     "data": {
      "image/png": "[encoded data removed]",
      "text/plain": [
       "<Figure size 432x288 with 1 Axes>"
      ]
     },
     "metadata": {
      "needs_background": "light"
     },
     "output_type": "display_data"
    }
   ],
   "source": [
    "train_2016.plot(x='bathroomcnt', y= 'logerror')"
   ]
  },
  {
   "cell_type": "code",
   "execution_count": 144,
   "metadata": {},
   "outputs": [
    {
     "data": {
      "text/plain": [
       "<AxesSubplot:xlabel='bathroomcnt'>"
      ]
     },
     "execution_count": 144,
     "metadata": {},
     "output_type": "execute_result"
    },
    {
     "data": {
      "image/png": "[encoded data removed]",
      "text/plain": [
       "<Figure size 432x288 with 1 Axes>"
      ]
     },
     "metadata": {
      "needs_background": "light"
     },
     "output_type": "display_data"
    }
   ],
   "source": [
    "train_2017.plot(x='bathroomcnt', y= 'logerror')"
   ]
  },
  {
   "cell_type": "code",
   "execution_count": null,
   "metadata": {},
   "outputs": [],
   "source": []
  }
 ],
 "metadata": {
  "kernelspec": {
   "display_name": "Python 3",
   "language": "python",
   "name": "python3"
  },
  "language_info": {
   "codemirror_mode": {
    "name": "ipython",
    "version": 3
   },
   "file_extension": ".py",
   "mimetype": "text/x-python",
   "name": "python",
   "nbconvert_exporter": "python",
   "pygments_lexer": "ipython3",
   "version": "3.8.5"
  }
 },
 "nbformat": 4,
 "nbformat_minor": 4
}
